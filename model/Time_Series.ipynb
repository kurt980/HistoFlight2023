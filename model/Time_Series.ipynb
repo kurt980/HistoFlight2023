{
  "nbformat": 4,
  "nbformat_minor": 0,
  "metadata": {
    "colab": {
      "provenance": []
    },
    "kernelspec": {
      "name": "python3",
      "display_name": "Python 3"
    },
    "language_info": {
      "name": "python"
    }
  },
  "cells": [
    {
      "cell_type": "code",
      "execution_count": 2,
      "metadata": {
        "id": "gbgR_6TUChWl"
      },
      "outputs": [],
      "source": [
        "import pandas as pd\n",
        "import numpy as np"
      ]
    },
    {
      "cell_type": "code",
      "source": [],
      "metadata": {
        "id": "0u-wbU6MWay1"
      },
      "execution_count": null,
      "outputs": []
    },
    {
      "cell_type": "markdown",
      "source": [
        "## **Read and Store data**"
      ],
      "metadata": {
        "id": "kCu28wGZWkBf"
      }
    },
    {
      "cell_type": "code",
      "source": [
        "import os\n",
        "\n",
        "main_directory = '/content/drive/MyDrive/old_data'\n",
        "\n",
        "# Get a list of all folders in the main directory\n",
        "folders = [folder for folder in os.listdir(main_directory) if os.path.isdir(os.path.join(main_directory, folder))]\n",
        "\n",
        "# Dictionary to store DataFrames\n",
        "tickets, flights = {}, {}\n",
        "\n",
        "# Iterate over each folder\n",
        "for folder in folders:\n",
        "    # Construct the path to the CSV\n",
        "    csv_path_ticket = os.path.join(main_directory, folder, 'ticket.csv')\n",
        "    csv_path_flight = os.path.join(main_directory, folder, 'flight.csv')\n",
        "\n",
        "    # Check if the CSV file exists\n",
        "    if os.path.exists(csv_path_ticket):\n",
        "        # Read the CSV file into a DataFrame\n",
        "        df = pd.read_csv(csv_path_ticket)\n",
        "\n",
        "        # Store the DataFrame in the dictionary with the folder name as the key\n",
        "        tickets[folder] = df\n",
        "\n",
        "    else:\n",
        "        print(f'ticket not found in {folder}')\n",
        "\n",
        "        # Check if the CSV file exists\n",
        "    if os.path.exists(csv_path_flight):\n",
        "        # Read the CSV file into a DataFrame\n",
        "        df = pd.read_csv(csv_path_flight)\n",
        "\n",
        "        # Store the DataFrame in the dictionary with the folder name as the key\n",
        "        flights[folder] = df\n",
        "\n",
        "    else:\n",
        "        print(f'flight not found in {folder}')"
      ],
      "metadata": {
        "id": "WgsUxzeeWa1j"
      },
      "execution_count": 3,
      "outputs": []
    },
    {
      "cell_type": "code",
      "source": [],
      "metadata": {
        "colab": {
          "base_uri": "https://localhost:8080/",
          "height": 424
        },
        "id": "r8C0qozJu5_x",
        "outputId": "f9100e65-b33c-4daa-b9a7-4619ee648695"
      },
      "execution_count": null,
      "outputs": [
        {
          "output_type": "execute_result",
          "data": {
            "text/plain": [
              "                                               ticket_id  \\\n",
              "0      0a18f98ff00a462760bd70516f3e900bd5b0ecf3bff99b...   \n",
              "1      edf369fd16114b4c4c9921c5b6cba3e902798f13f5dc1e...   \n",
              "2      e10b3db68e4474b73aa5ba7f17ddee8a3a1ab50e6436df...   \n",
              "3      398a0aa23f2f5ee187267d9d1533d0b8be86754a5c858e...   \n",
              "4      bc1a91f2d14d6ae986ef6cb33b950456888ade7dd37c65...   \n",
              "...                                                  ...   \n",
              "54388  6d9bf938ed119fe2cc8471e3580fcd034e5324af035bf9...   \n",
              "54389  414f5f1acebf596e1ac54791f6f5393533462fb3c84d34...   \n",
              "54390  59de1458fcbb2d1e632df4fae9723646fcf413df6d3c68...   \n",
              "54391  e09b854eda4e5bf5ddcbc10de2d8b7b8dadb10805e637d...   \n",
              "54392  584d6626cfc1f8acc8f6ddcfa00817b20cd97060713309...   \n",
              "\n",
              "                                               flight_id purchase_date  \\\n",
              "0      c45645fc442926434e54d4ad71966a4f7cd2420ccf7a8f...    2022-10-20   \n",
              "1      909459dcc544dec6216b232c0426e4e5dba71aae70214e...    2022-10-20   \n",
              "2      9cd975325830680a6189efaa693a96c3fed69433d69ddb...    2022-10-20   \n",
              "3      5c690cbaed69c4ac2b03b1fe10aa91a9b0eb0b4ba84c3f...    2022-10-20   \n",
              "4      dfb9db781edd1b288b42cf5c7a15c833d94381f4328148...    2022-10-20   \n",
              "...                                                  ...           ...   \n",
              "54388  edeaecbd81a3793a94a8e7814bfe3fef0e6efd51957bff...    2022-10-24   \n",
              "54389  b05199957bc0cb6d210644b65ea8ba8bc860199a9e80c3...    2022-10-24   \n",
              "54390  b626d64d2bc2536540272a373d6d82e024eec8c2b30c65...    2022-10-24   \n",
              "54391  a1d031bdeb7754e2a93146fb5710dc41247e67eabecc52...    2022-10-24   \n",
              "54392  afa0787f4224c29b48ae06c5b57fb3de2317c769419359...    2022-10-24   \n",
              "\n",
              "         class  price  \n",
              "0      Economy  297.0  \n",
              "1      Economy  373.0  \n",
              "2      Economy  373.0  \n",
              "3      Economy    NaN  \n",
              "4      Economy  373.0  \n",
              "...        ...    ...  \n",
              "54388  Economy    NaN  \n",
              "54389  Economy    NaN  \n",
              "54390  Economy    NaN  \n",
              "54391  Economy    NaN  \n",
              "54392  Economy    NaN  \n",
              "\n",
              "[54393 rows x 5 columns]"
            ],
            "text/html": [
              "\n",
              "  <div id=\"df-7701d3fb-a17b-4b7e-9a3b-257d23e9c0f8\" class=\"colab-df-container\">\n",
              "    <div>\n",
              "<style scoped>\n",
              "    .dataframe tbody tr th:only-of-type {\n",
              "        vertical-align: middle;\n",
              "    }\n",
              "\n",
              "    .dataframe tbody tr th {\n",
              "        vertical-align: top;\n",
              "    }\n",
              "\n",
              "    .dataframe thead th {\n",
              "        text-align: right;\n",
              "    }\n",
              "</style>\n",
              "<table border=\"1\" class=\"dataframe\">\n",
              "  <thead>\n",
              "    <tr style=\"text-align: right;\">\n",
              "      <th></th>\n",
              "      <th>ticket_id</th>\n",
              "      <th>flight_id</th>\n",
              "      <th>purchase_date</th>\n",
              "      <th>class</th>\n",
              "      <th>price</th>\n",
              "    </tr>\n",
              "  </thead>\n",
              "  <tbody>\n",
              "    <tr>\n",
              "      <th>0</th>\n",
              "      <td>0a18f98ff00a462760bd70516f3e900bd5b0ecf3bff99b...</td>\n",
              "      <td>c45645fc442926434e54d4ad71966a4f7cd2420ccf7a8f...</td>\n",
              "      <td>2022-10-20</td>\n",
              "      <td>Economy</td>\n",
              "      <td>297.0</td>\n",
              "    </tr>\n",
              "    <tr>\n",
              "      <th>1</th>\n",
              "      <td>edf369fd16114b4c4c9921c5b6cba3e902798f13f5dc1e...</td>\n",
              "      <td>909459dcc544dec6216b232c0426e4e5dba71aae70214e...</td>\n",
              "      <td>2022-10-20</td>\n",
              "      <td>Economy</td>\n",
              "      <td>373.0</td>\n",
              "    </tr>\n",
              "    <tr>\n",
              "      <th>2</th>\n",
              "      <td>e10b3db68e4474b73aa5ba7f17ddee8a3a1ab50e6436df...</td>\n",
              "      <td>9cd975325830680a6189efaa693a96c3fed69433d69ddb...</td>\n",
              "      <td>2022-10-20</td>\n",
              "      <td>Economy</td>\n",
              "      <td>373.0</td>\n",
              "    </tr>\n",
              "    <tr>\n",
              "      <th>3</th>\n",
              "      <td>398a0aa23f2f5ee187267d9d1533d0b8be86754a5c858e...</td>\n",
              "      <td>5c690cbaed69c4ac2b03b1fe10aa91a9b0eb0b4ba84c3f...</td>\n",
              "      <td>2022-10-20</td>\n",
              "      <td>Economy</td>\n",
              "      <td>NaN</td>\n",
              "    </tr>\n",
              "    <tr>\n",
              "      <th>4</th>\n",
              "      <td>bc1a91f2d14d6ae986ef6cb33b950456888ade7dd37c65...</td>\n",
              "      <td>dfb9db781edd1b288b42cf5c7a15c833d94381f4328148...</td>\n",
              "      <td>2022-10-20</td>\n",
              "      <td>Economy</td>\n",
              "      <td>373.0</td>\n",
              "    </tr>\n",
              "    <tr>\n",
              "      <th>...</th>\n",
              "      <td>...</td>\n",
              "      <td>...</td>\n",
              "      <td>...</td>\n",
              "      <td>...</td>\n",
              "      <td>...</td>\n",
              "    </tr>\n",
              "    <tr>\n",
              "      <th>54388</th>\n",
              "      <td>6d9bf938ed119fe2cc8471e3580fcd034e5324af035bf9...</td>\n",
              "      <td>edeaecbd81a3793a94a8e7814bfe3fef0e6efd51957bff...</td>\n",
              "      <td>2022-10-24</td>\n",
              "      <td>Economy</td>\n",
              "      <td>NaN</td>\n",
              "    </tr>\n",
              "    <tr>\n",
              "      <th>54389</th>\n",
              "      <td>414f5f1acebf596e1ac54791f6f5393533462fb3c84d34...</td>\n",
              "      <td>b05199957bc0cb6d210644b65ea8ba8bc860199a9e80c3...</td>\n",
              "      <td>2022-10-24</td>\n",
              "      <td>Economy</td>\n",
              "      <td>NaN</td>\n",
              "    </tr>\n",
              "    <tr>\n",
              "      <th>54390</th>\n",
              "      <td>59de1458fcbb2d1e632df4fae9723646fcf413df6d3c68...</td>\n",
              "      <td>b626d64d2bc2536540272a373d6d82e024eec8c2b30c65...</td>\n",
              "      <td>2022-10-24</td>\n",
              "      <td>Economy</td>\n",
              "      <td>NaN</td>\n",
              "    </tr>\n",
              "    <tr>\n",
              "      <th>54391</th>\n",
              "      <td>e09b854eda4e5bf5ddcbc10de2d8b7b8dadb10805e637d...</td>\n",
              "      <td>a1d031bdeb7754e2a93146fb5710dc41247e67eabecc52...</td>\n",
              "      <td>2022-10-24</td>\n",
              "      <td>Economy</td>\n",
              "      <td>NaN</td>\n",
              "    </tr>\n",
              "    <tr>\n",
              "      <th>54392</th>\n",
              "      <td>584d6626cfc1f8acc8f6ddcfa00817b20cd97060713309...</td>\n",
              "      <td>afa0787f4224c29b48ae06c5b57fb3de2317c769419359...</td>\n",
              "      <td>2022-10-24</td>\n",
              "      <td>Economy</td>\n",
              "      <td>NaN</td>\n",
              "    </tr>\n",
              "  </tbody>\n",
              "</table>\n",
              "<p>54393 rows × 5 columns</p>\n",
              "</div>\n",
              "    <div class=\"colab-df-buttons\">\n",
              "\n",
              "  <div class=\"colab-df-container\">\n",
              "    <button class=\"colab-df-convert\" onclick=\"convertToInteractive('df-7701d3fb-a17b-4b7e-9a3b-257d23e9c0f8')\"\n",
              "            title=\"Convert this dataframe to an interactive table.\"\n",
              "            style=\"display:none;\">\n",
              "\n",
              "  <svg xmlns=\"http://www.w3.org/2000/svg\" height=\"24px\" viewBox=\"0 -960 960 960\">\n",
              "    <path d=\"M120-120v-720h720v720H120Zm60-500h600v-160H180v160Zm220 220h160v-160H400v160Zm0 220h160v-160H400v160ZM180-400h160v-160H180v160Zm440 0h160v-160H620v160ZM180-180h160v-160H180v160Zm440 0h160v-160H620v160Z\"/>\n",
              "  </svg>\n",
              "    </button>\n",
              "\n",
              "  <style>\n",
              "    .colab-df-container {\n",
              "      display:flex;\n",
              "      gap: 12px;\n",
              "    }\n",
              "\n",
              "    .colab-df-convert {\n",
              "      background-color: #E8F0FE;\n",
              "      border: none;\n",
              "      border-radius: 50%;\n",
              "      cursor: pointer;\n",
              "      display: none;\n",
              "      fill: #1967D2;\n",
              "      height: 32px;\n",
              "      padding: 0 0 0 0;\n",
              "      width: 32px;\n",
              "    }\n",
              "\n",
              "    .colab-df-convert:hover {\n",
              "      background-color: #E2EBFA;\n",
              "      box-shadow: 0px 1px 2px rgba(60, 64, 67, 0.3), 0px 1px 3px 1px rgba(60, 64, 67, 0.15);\n",
              "      fill: #174EA6;\n",
              "    }\n",
              "\n",
              "    .colab-df-buttons div {\n",
              "      margin-bottom: 4px;\n",
              "    }\n",
              "\n",
              "    [theme=dark] .colab-df-convert {\n",
              "      background-color: #3B4455;\n",
              "      fill: #D2E3FC;\n",
              "    }\n",
              "\n",
              "    [theme=dark] .colab-df-convert:hover {\n",
              "      background-color: #434B5C;\n",
              "      box-shadow: 0px 1px 3px 1px rgba(0, 0, 0, 0.15);\n",
              "      filter: drop-shadow(0px 1px 2px rgba(0, 0, 0, 0.3));\n",
              "      fill: #FFFFFF;\n",
              "    }\n",
              "  </style>\n",
              "\n",
              "    <script>\n",
              "      const buttonEl =\n",
              "        document.querySelector('#df-7701d3fb-a17b-4b7e-9a3b-257d23e9c0f8 button.colab-df-convert');\n",
              "      buttonEl.style.display =\n",
              "        google.colab.kernel.accessAllowed ? 'block' : 'none';\n",
              "\n",
              "      async function convertToInteractive(key) {\n",
              "        const element = document.querySelector('#df-7701d3fb-a17b-4b7e-9a3b-257d23e9c0f8');\n",
              "        const dataTable =\n",
              "          await google.colab.kernel.invokeFunction('convertToInteractive',\n",
              "                                                    [key], {});\n",
              "        if (!dataTable) return;\n",
              "\n",
              "        const docLinkHtml = 'Like what you see? Visit the ' +\n",
              "          '<a target=\"_blank\" href=https://colab.research.google.com/notebooks/data_table.ipynb>data table notebook</a>'\n",
              "          + ' to learn more about interactive tables.';\n",
              "        element.innerHTML = '';\n",
              "        dataTable['output_type'] = 'display_data';\n",
              "        await google.colab.output.renderOutput(dataTable, element);\n",
              "        const docLink = document.createElement('div');\n",
              "        docLink.innerHTML = docLinkHtml;\n",
              "        element.appendChild(docLink);\n",
              "      }\n",
              "    </script>\n",
              "  </div>\n",
              "\n",
              "\n",
              "<div id=\"df-3526c8ce-8e9e-4b9a-a0e9-93b71355c2f8\">\n",
              "  <button class=\"colab-df-quickchart\" onclick=\"quickchart('df-3526c8ce-8e9e-4b9a-a0e9-93b71355c2f8')\"\n",
              "            title=\"Suggest charts.\"\n",
              "            style=\"display:none;\">\n",
              "\n",
              "<svg xmlns=\"http://www.w3.org/2000/svg\" height=\"24px\"viewBox=\"0 0 24 24\"\n",
              "     width=\"24px\">\n",
              "    <g>\n",
              "        <path d=\"M19 3H5c-1.1 0-2 .9-2 2v14c0 1.1.9 2 2 2h14c1.1 0 2-.9 2-2V5c0-1.1-.9-2-2-2zM9 17H7v-7h2v7zm4 0h-2V7h2v10zm4 0h-2v-4h2v4z\"/>\n",
              "    </g>\n",
              "</svg>\n",
              "  </button>\n",
              "\n",
              "<style>\n",
              "  .colab-df-quickchart {\n",
              "      --bg-color: #E8F0FE;\n",
              "      --fill-color: #1967D2;\n",
              "      --hover-bg-color: #E2EBFA;\n",
              "      --hover-fill-color: #174EA6;\n",
              "      --disabled-fill-color: #AAA;\n",
              "      --disabled-bg-color: #DDD;\n",
              "  }\n",
              "\n",
              "  [theme=dark] .colab-df-quickchart {\n",
              "      --bg-color: #3B4455;\n",
              "      --fill-color: #D2E3FC;\n",
              "      --hover-bg-color: #434B5C;\n",
              "      --hover-fill-color: #FFFFFF;\n",
              "      --disabled-bg-color: #3B4455;\n",
              "      --disabled-fill-color: #666;\n",
              "  }\n",
              "\n",
              "  .colab-df-quickchart {\n",
              "    background-color: var(--bg-color);\n",
              "    border: none;\n",
              "    border-radius: 50%;\n",
              "    cursor: pointer;\n",
              "    display: none;\n",
              "    fill: var(--fill-color);\n",
              "    height: 32px;\n",
              "    padding: 0;\n",
              "    width: 32px;\n",
              "  }\n",
              "\n",
              "  .colab-df-quickchart:hover {\n",
              "    background-color: var(--hover-bg-color);\n",
              "    box-shadow: 0 1px 2px rgba(60, 64, 67, 0.3), 0 1px 3px 1px rgba(60, 64, 67, 0.15);\n",
              "    fill: var(--button-hover-fill-color);\n",
              "  }\n",
              "\n",
              "  .colab-df-quickchart-complete:disabled,\n",
              "  .colab-df-quickchart-complete:disabled:hover {\n",
              "    background-color: var(--disabled-bg-color);\n",
              "    fill: var(--disabled-fill-color);\n",
              "    box-shadow: none;\n",
              "  }\n",
              "\n",
              "  .colab-df-spinner {\n",
              "    border: 2px solid var(--fill-color);\n",
              "    border-color: transparent;\n",
              "    border-bottom-color: var(--fill-color);\n",
              "    animation:\n",
              "      spin 1s steps(1) infinite;\n",
              "  }\n",
              "\n",
              "  @keyframes spin {\n",
              "    0% {\n",
              "      border-color: transparent;\n",
              "      border-bottom-color: var(--fill-color);\n",
              "      border-left-color: var(--fill-color);\n",
              "    }\n",
              "    20% {\n",
              "      border-color: transparent;\n",
              "      border-left-color: var(--fill-color);\n",
              "      border-top-color: var(--fill-color);\n",
              "    }\n",
              "    30% {\n",
              "      border-color: transparent;\n",
              "      border-left-color: var(--fill-color);\n",
              "      border-top-color: var(--fill-color);\n",
              "      border-right-color: var(--fill-color);\n",
              "    }\n",
              "    40% {\n",
              "      border-color: transparent;\n",
              "      border-right-color: var(--fill-color);\n",
              "      border-top-color: var(--fill-color);\n",
              "    }\n",
              "    60% {\n",
              "      border-color: transparent;\n",
              "      border-right-color: var(--fill-color);\n",
              "    }\n",
              "    80% {\n",
              "      border-color: transparent;\n",
              "      border-right-color: var(--fill-color);\n",
              "      border-bottom-color: var(--fill-color);\n",
              "    }\n",
              "    90% {\n",
              "      border-color: transparent;\n",
              "      border-bottom-color: var(--fill-color);\n",
              "    }\n",
              "  }\n",
              "</style>\n",
              "\n",
              "  <script>\n",
              "    async function quickchart(key) {\n",
              "      const quickchartButtonEl =\n",
              "        document.querySelector('#' + key + ' button');\n",
              "      quickchartButtonEl.disabled = true;  // To prevent multiple clicks.\n",
              "      quickchartButtonEl.classList.add('colab-df-spinner');\n",
              "      try {\n",
              "        const charts = await google.colab.kernel.invokeFunction(\n",
              "            'suggestCharts', [key], {});\n",
              "      } catch (error) {\n",
              "        console.error('Error during call to suggestCharts:', error);\n",
              "      }\n",
              "      quickchartButtonEl.classList.remove('colab-df-spinner');\n",
              "      quickchartButtonEl.classList.add('colab-df-quickchart-complete');\n",
              "    }\n",
              "    (() => {\n",
              "      let quickchartButtonEl =\n",
              "        document.querySelector('#df-3526c8ce-8e9e-4b9a-a0e9-93b71355c2f8 button');\n",
              "      quickchartButtonEl.style.display =\n",
              "        google.colab.kernel.accessAllowed ? 'block' : 'none';\n",
              "    })();\n",
              "  </script>\n",
              "</div>\n",
              "    </div>\n",
              "  </div>\n"
            ]
          },
          "metadata": {},
          "execution_count": 5
        }
      ]
    },
    {
      "cell_type": "code",
      "source": [],
      "metadata": {
        "id": "0u5MoSDZu6Cb"
      },
      "execution_count": null,
      "outputs": []
    },
    {
      "cell_type": "markdown",
      "source": [
        "## **Data Processing**"
      ],
      "metadata": {
        "id": "qYZlHk1hu6YM"
      }
    },
    {
      "cell_type": "code",
      "source": [],
      "metadata": {
        "id": "Hpdcld1vWa38"
      },
      "execution_count": null,
      "outputs": []
    },
    {
      "cell_type": "markdown",
      "source": [
        "### **Join Tickets data and Flights data**"
      ],
      "metadata": {
        "id": "ZaoIJdVGu9XY"
      }
    },
    {
      "cell_type": "code",
      "source": [
        "# Dictionary to store joined DataFrames\n",
        "dfs = {}\n",
        "\n",
        "# Iterate over each date in tickets_dict\n",
        "for date, tickets_df in tickets.items():\n",
        "    # Check if the corresponding date exists in flights_dict\n",
        "    if date in flights:\n",
        "        # Perform the join operation on \"flight_id\"\n",
        "        joined_df = pd.merge(tickets_df, flights[date], on=\"flight_id\", how=\"left\")\n",
        "\n",
        "        # Store the joined DataFrame in the new dictionary with the same date as key\n",
        "        dfs[date] = joined_df\n",
        "    else:\n",
        "        print(f'No matching flights found for tickets on {date}')"
      ],
      "metadata": {
        "id": "Q0rEdiXfWa6Y"
      },
      "execution_count": 4,
      "outputs": []
    },
    {
      "cell_type": "code",
      "source": [],
      "metadata": {
        "id": "_s9RUjidxoFt",
        "colab": {
          "base_uri": "https://localhost:8080/"
        },
        "outputId": "3679f9db-b0f5-4d4a-a318-ab734d6c3ce5"
      },
      "execution_count": 5,
      "outputs": [
        {
          "output_type": "stream",
          "name": "stdout",
          "text": [
            "2022.12.02 <class 'str'>\n",
            "2022.11.24 <class 'str'>\n",
            "2022.12.04 <class 'str'>\n",
            "2022.11.19 <class 'str'>\n",
            "2022.11.23 <class 'str'>\n",
            "2022.11.27 <class 'str'>\n",
            "2022.11.26 <class 'str'>\n",
            "2022.11.25 <class 'str'>\n",
            "2022.12.06 <class 'str'>\n",
            "2022.11.20 <class 'str'>\n",
            "2022.11.17 <class 'str'>\n",
            "2022.11.11 <class 'str'>\n",
            "2022.11.16 <class 'str'>\n",
            "2022.11.18 <class 'str'>\n",
            "2022.11.15 <class 'str'>\n",
            "2022.11.09 <class 'str'>\n",
            "2022.11.07 <class 'str'>\n",
            "2022.11.14 <class 'str'>\n",
            "2022.11.13 <class 'str'>\n",
            "2022.11.08 <class 'str'>\n",
            "2022.11.05 <class 'str'>\n",
            "2022.11.03 <class 'str'>\n",
            "2022.10.25 <class 'str'>\n",
            "2022.11.06 <class 'str'>\n",
            "2022.11.01 <class 'str'>\n",
            "2022.10.26 <class 'str'>\n",
            "2022.11.04 <class 'str'>\n",
            "2022.10.20-24 <class 'str'>\n",
            "2022.10.27 <class 'str'>\n",
            "2022.11.02 <class 'str'>\n"
          ]
        }
      ]
    },
    {
      "cell_type": "code",
      "source": [
        "dfs['2022.10.20-24']"
      ],
      "metadata": {
        "id": "Rk34eOe_Wa8x",
        "colab": {
          "base_uri": "https://localhost:8080/",
          "height": 444
        },
        "outputId": "fbcbb56b-9282-45ea-9d6d-de6d925e6f7e"
      },
      "execution_count": 10,
      "outputs": [
        {
          "output_type": "execute_result",
          "data": {
            "text/plain": [
              "                                                ticket_id  \\\n",
              "0       0a18f98ff00a462760bd70516f3e900bd5b0ecf3bff99b...   \n",
              "1       edf369fd16114b4c4c9921c5b6cba3e902798f13f5dc1e...   \n",
              "2       e10b3db68e4474b73aa5ba7f17ddee8a3a1ab50e6436df...   \n",
              "3       398a0aa23f2f5ee187267d9d1533d0b8be86754a5c858e...   \n",
              "4       bc1a91f2d14d6ae986ef6cb33b950456888ade7dd37c65...   \n",
              "...                                                   ...   \n",
              "277870  6d9bf938ed119fe2cc8471e3580fcd034e5324af035bf9...   \n",
              "277871  414f5f1acebf596e1ac54791f6f5393533462fb3c84d34...   \n",
              "277872  59de1458fcbb2d1e632df4fae9723646fcf413df6d3c68...   \n",
              "277873  e09b854eda4e5bf5ddcbc10de2d8b7b8dadb10805e637d...   \n",
              "277874  584d6626cfc1f8acc8f6ddcfa00817b20cd97060713309...   \n",
              "\n",
              "                                                flight_id purchase_date  \\\n",
              "0       c45645fc442926434e54d4ad71966a4f7cd2420ccf7a8f...    2022-10-20   \n",
              "1       909459dcc544dec6216b232c0426e4e5dba71aae70214e...    2022-10-20   \n",
              "2       9cd975325830680a6189efaa693a96c3fed69433d69ddb...    2022-10-20   \n",
              "3       5c690cbaed69c4ac2b03b1fe10aa91a9b0eb0b4ba84c3f...    2022-10-20   \n",
              "4       dfb9db781edd1b288b42cf5c7a15c833d94381f4328148...    2022-10-20   \n",
              "...                                                   ...           ...   \n",
              "277870  edeaecbd81a3793a94a8e7814bfe3fef0e6efd51957bff...    2022-10-24   \n",
              "277871  b05199957bc0cb6d210644b65ea8ba8bc860199a9e80c3...    2022-10-24   \n",
              "277872  b626d64d2bc2536540272a373d6d82e024eec8c2b30c65...    2022-10-24   \n",
              "277873  a1d031bdeb7754e2a93146fb5710dc41247e67eabecc52...    2022-10-24   \n",
              "277874  afa0787f4224c29b48ae06c5b57fb3de2317c769419359...    2022-10-24   \n",
              "\n",
              "          class  price flight_number airline_code departure_date  \\\n",
              "0       Economy  297.0       NK 1024           NK     2022-10-21   \n",
              "1       Economy  373.0        UA 758           UA     2022-10-21   \n",
              "2       Economy  373.0       AA 2364           AA     2022-10-21   \n",
              "3       Economy    NaN       WN 1766           WN     2022-10-21   \n",
              "4       Economy  373.0       UA 2676           UA     2022-10-21   \n",
              "...         ...    ...           ...          ...            ...   \n",
              "277870  Economy    NaN        WN 130           WN     2022-12-23   \n",
              "277871  Economy    NaN        WN 700           WN     2022-12-23   \n",
              "277872  Economy    NaN       WN 1525           WN     2022-12-23   \n",
              "277873  Economy    NaN       WN 5935           WN     2022-12-23   \n",
              "277874  Economy    NaN       WN 1243           WN     2022-12-23   \n",
              "\n",
              "       departure_time arrival_date arrival_time travel_time departure_airport  \\\n",
              "0               21:59   2022-10-22        00:39     4:40:00               ORD   \n",
              "1               10:35   2022-10-21        13:00     4:25:00               ORD   \n",
              "2               17:00   2022-10-21        19:16     4:16:00               ORD   \n",
              "3               12:25   2022-10-21        14:50     4:25:00               MDW   \n",
              "4               14:12   2022-10-21        16:43     4:31:00               ORD   \n",
              "...               ...          ...          ...         ...               ...   \n",
              "277870          19:15   2022-12-23        20:35     1:20:00               SJC   \n",
              "277871          19:35   2022-12-23        21:00     1:25:00               OAK   \n",
              "277872          20:40   2022-12-23        22:05     1:25:00               SFO   \n",
              "277873          20:55   2022-12-23        22:15     1:20:00               OAK   \n",
              "277874          21:05   2022-12-23        22:20     1:15:00               SJC   \n",
              "\n",
              "       arrival_airport  \n",
              "0                  LAX  \n",
              "1                  LAX  \n",
              "2                  LAX  \n",
              "3                  LAX  \n",
              "4                  LAX  \n",
              "...                ...  \n",
              "277870             LAX  \n",
              "277871             LAX  \n",
              "277872             LAX  \n",
              "277873             LAX  \n",
              "277874             LAX  \n",
              "\n",
              "[277875 rows x 14 columns]"
            ],
            "text/html": [
              "\n",
              "  <div id=\"df-bdc7d648-338c-4a39-a6b7-3f3885321224\" class=\"colab-df-container\">\n",
              "    <div>\n",
              "<style scoped>\n",
              "    .dataframe tbody tr th:only-of-type {\n",
              "        vertical-align: middle;\n",
              "    }\n",
              "\n",
              "    .dataframe tbody tr th {\n",
              "        vertical-align: top;\n",
              "    }\n",
              "\n",
              "    .dataframe thead th {\n",
              "        text-align: right;\n",
              "    }\n",
              "</style>\n",
              "<table border=\"1\" class=\"dataframe\">\n",
              "  <thead>\n",
              "    <tr style=\"text-align: right;\">\n",
              "      <th></th>\n",
              "      <th>ticket_id</th>\n",
              "      <th>flight_id</th>\n",
              "      <th>purchase_date</th>\n",
              "      <th>class</th>\n",
              "      <th>price</th>\n",
              "      <th>flight_number</th>\n",
              "      <th>airline_code</th>\n",
              "      <th>departure_date</th>\n",
              "      <th>departure_time</th>\n",
              "      <th>arrival_date</th>\n",
              "      <th>arrival_time</th>\n",
              "      <th>travel_time</th>\n",
              "      <th>departure_airport</th>\n",
              "      <th>arrival_airport</th>\n",
              "    </tr>\n",
              "  </thead>\n",
              "  <tbody>\n",
              "    <tr>\n",
              "      <th>0</th>\n",
              "      <td>0a18f98ff00a462760bd70516f3e900bd5b0ecf3bff99b...</td>\n",
              "      <td>c45645fc442926434e54d4ad71966a4f7cd2420ccf7a8f...</td>\n",
              "      <td>2022-10-20</td>\n",
              "      <td>Economy</td>\n",
              "      <td>297.0</td>\n",
              "      <td>NK 1024</td>\n",
              "      <td>NK</td>\n",
              "      <td>2022-10-21</td>\n",
              "      <td>21:59</td>\n",
              "      <td>2022-10-22</td>\n",
              "      <td>00:39</td>\n",
              "      <td>4:40:00</td>\n",
              "      <td>ORD</td>\n",
              "      <td>LAX</td>\n",
              "    </tr>\n",
              "    <tr>\n",
              "      <th>1</th>\n",
              "      <td>edf369fd16114b4c4c9921c5b6cba3e902798f13f5dc1e...</td>\n",
              "      <td>909459dcc544dec6216b232c0426e4e5dba71aae70214e...</td>\n",
              "      <td>2022-10-20</td>\n",
              "      <td>Economy</td>\n",
              "      <td>373.0</td>\n",
              "      <td>UA 758</td>\n",
              "      <td>UA</td>\n",
              "      <td>2022-10-21</td>\n",
              "      <td>10:35</td>\n",
              "      <td>2022-10-21</td>\n",
              "      <td>13:00</td>\n",
              "      <td>4:25:00</td>\n",
              "      <td>ORD</td>\n",
              "      <td>LAX</td>\n",
              "    </tr>\n",
              "    <tr>\n",
              "      <th>2</th>\n",
              "      <td>e10b3db68e4474b73aa5ba7f17ddee8a3a1ab50e6436df...</td>\n",
              "      <td>9cd975325830680a6189efaa693a96c3fed69433d69ddb...</td>\n",
              "      <td>2022-10-20</td>\n",
              "      <td>Economy</td>\n",
              "      <td>373.0</td>\n",
              "      <td>AA 2364</td>\n",
              "      <td>AA</td>\n",
              "      <td>2022-10-21</td>\n",
              "      <td>17:00</td>\n",
              "      <td>2022-10-21</td>\n",
              "      <td>19:16</td>\n",
              "      <td>4:16:00</td>\n",
              "      <td>ORD</td>\n",
              "      <td>LAX</td>\n",
              "    </tr>\n",
              "    <tr>\n",
              "      <th>3</th>\n",
              "      <td>398a0aa23f2f5ee187267d9d1533d0b8be86754a5c858e...</td>\n",
              "      <td>5c690cbaed69c4ac2b03b1fe10aa91a9b0eb0b4ba84c3f...</td>\n",
              "      <td>2022-10-20</td>\n",
              "      <td>Economy</td>\n",
              "      <td>NaN</td>\n",
              "      <td>WN 1766</td>\n",
              "      <td>WN</td>\n",
              "      <td>2022-10-21</td>\n",
              "      <td>12:25</td>\n",
              "      <td>2022-10-21</td>\n",
              "      <td>14:50</td>\n",
              "      <td>4:25:00</td>\n",
              "      <td>MDW</td>\n",
              "      <td>LAX</td>\n",
              "    </tr>\n",
              "    <tr>\n",
              "      <th>4</th>\n",
              "      <td>bc1a91f2d14d6ae986ef6cb33b950456888ade7dd37c65...</td>\n",
              "      <td>dfb9db781edd1b288b42cf5c7a15c833d94381f4328148...</td>\n",
              "      <td>2022-10-20</td>\n",
              "      <td>Economy</td>\n",
              "      <td>373.0</td>\n",
              "      <td>UA 2676</td>\n",
              "      <td>UA</td>\n",
              "      <td>2022-10-21</td>\n",
              "      <td>14:12</td>\n",
              "      <td>2022-10-21</td>\n",
              "      <td>16:43</td>\n",
              "      <td>4:31:00</td>\n",
              "      <td>ORD</td>\n",
              "      <td>LAX</td>\n",
              "    </tr>\n",
              "    <tr>\n",
              "      <th>...</th>\n",
              "      <td>...</td>\n",
              "      <td>...</td>\n",
              "      <td>...</td>\n",
              "      <td>...</td>\n",
              "      <td>...</td>\n",
              "      <td>...</td>\n",
              "      <td>...</td>\n",
              "      <td>...</td>\n",
              "      <td>...</td>\n",
              "      <td>...</td>\n",
              "      <td>...</td>\n",
              "      <td>...</td>\n",
              "      <td>...</td>\n",
              "      <td>...</td>\n",
              "    </tr>\n",
              "    <tr>\n",
              "      <th>277870</th>\n",
              "      <td>6d9bf938ed119fe2cc8471e3580fcd034e5324af035bf9...</td>\n",
              "      <td>edeaecbd81a3793a94a8e7814bfe3fef0e6efd51957bff...</td>\n",
              "      <td>2022-10-24</td>\n",
              "      <td>Economy</td>\n",
              "      <td>NaN</td>\n",
              "      <td>WN 130</td>\n",
              "      <td>WN</td>\n",
              "      <td>2022-12-23</td>\n",
              "      <td>19:15</td>\n",
              "      <td>2022-12-23</td>\n",
              "      <td>20:35</td>\n",
              "      <td>1:20:00</td>\n",
              "      <td>SJC</td>\n",
              "      <td>LAX</td>\n",
              "    </tr>\n",
              "    <tr>\n",
              "      <th>277871</th>\n",
              "      <td>414f5f1acebf596e1ac54791f6f5393533462fb3c84d34...</td>\n",
              "      <td>b05199957bc0cb6d210644b65ea8ba8bc860199a9e80c3...</td>\n",
              "      <td>2022-10-24</td>\n",
              "      <td>Economy</td>\n",
              "      <td>NaN</td>\n",
              "      <td>WN 700</td>\n",
              "      <td>WN</td>\n",
              "      <td>2022-12-23</td>\n",
              "      <td>19:35</td>\n",
              "      <td>2022-12-23</td>\n",
              "      <td>21:00</td>\n",
              "      <td>1:25:00</td>\n",
              "      <td>OAK</td>\n",
              "      <td>LAX</td>\n",
              "    </tr>\n",
              "    <tr>\n",
              "      <th>277872</th>\n",
              "      <td>59de1458fcbb2d1e632df4fae9723646fcf413df6d3c68...</td>\n",
              "      <td>b626d64d2bc2536540272a373d6d82e024eec8c2b30c65...</td>\n",
              "      <td>2022-10-24</td>\n",
              "      <td>Economy</td>\n",
              "      <td>NaN</td>\n",
              "      <td>WN 1525</td>\n",
              "      <td>WN</td>\n",
              "      <td>2022-12-23</td>\n",
              "      <td>20:40</td>\n",
              "      <td>2022-12-23</td>\n",
              "      <td>22:05</td>\n",
              "      <td>1:25:00</td>\n",
              "      <td>SFO</td>\n",
              "      <td>LAX</td>\n",
              "    </tr>\n",
              "    <tr>\n",
              "      <th>277873</th>\n",
              "      <td>e09b854eda4e5bf5ddcbc10de2d8b7b8dadb10805e637d...</td>\n",
              "      <td>a1d031bdeb7754e2a93146fb5710dc41247e67eabecc52...</td>\n",
              "      <td>2022-10-24</td>\n",
              "      <td>Economy</td>\n",
              "      <td>NaN</td>\n",
              "      <td>WN 5935</td>\n",
              "      <td>WN</td>\n",
              "      <td>2022-12-23</td>\n",
              "      <td>20:55</td>\n",
              "      <td>2022-12-23</td>\n",
              "      <td>22:15</td>\n",
              "      <td>1:20:00</td>\n",
              "      <td>OAK</td>\n",
              "      <td>LAX</td>\n",
              "    </tr>\n",
              "    <tr>\n",
              "      <th>277874</th>\n",
              "      <td>584d6626cfc1f8acc8f6ddcfa00817b20cd97060713309...</td>\n",
              "      <td>afa0787f4224c29b48ae06c5b57fb3de2317c769419359...</td>\n",
              "      <td>2022-10-24</td>\n",
              "      <td>Economy</td>\n",
              "      <td>NaN</td>\n",
              "      <td>WN 1243</td>\n",
              "      <td>WN</td>\n",
              "      <td>2022-12-23</td>\n",
              "      <td>21:05</td>\n",
              "      <td>2022-12-23</td>\n",
              "      <td>22:20</td>\n",
              "      <td>1:15:00</td>\n",
              "      <td>SJC</td>\n",
              "      <td>LAX</td>\n",
              "    </tr>\n",
              "  </tbody>\n",
              "</table>\n",
              "<p>277875 rows × 14 columns</p>\n",
              "</div>\n",
              "    <div class=\"colab-df-buttons\">\n",
              "\n",
              "  <div class=\"colab-df-container\">\n",
              "    <button class=\"colab-df-convert\" onclick=\"convertToInteractive('df-bdc7d648-338c-4a39-a6b7-3f3885321224')\"\n",
              "            title=\"Convert this dataframe to an interactive table.\"\n",
              "            style=\"display:none;\">\n",
              "\n",
              "  <svg xmlns=\"http://www.w3.org/2000/svg\" height=\"24px\" viewBox=\"0 -960 960 960\">\n",
              "    <path d=\"M120-120v-720h720v720H120Zm60-500h600v-160H180v160Zm220 220h160v-160H400v160Zm0 220h160v-160H400v160ZM180-400h160v-160H180v160Zm440 0h160v-160H620v160ZM180-180h160v-160H180v160Zm440 0h160v-160H620v160Z\"/>\n",
              "  </svg>\n",
              "    </button>\n",
              "\n",
              "  <style>\n",
              "    .colab-df-container {\n",
              "      display:flex;\n",
              "      gap: 12px;\n",
              "    }\n",
              "\n",
              "    .colab-df-convert {\n",
              "      background-color: #E8F0FE;\n",
              "      border: none;\n",
              "      border-radius: 50%;\n",
              "      cursor: pointer;\n",
              "      display: none;\n",
              "      fill: #1967D2;\n",
              "      height: 32px;\n",
              "      padding: 0 0 0 0;\n",
              "      width: 32px;\n",
              "    }\n",
              "\n",
              "    .colab-df-convert:hover {\n",
              "      background-color: #E2EBFA;\n",
              "      box-shadow: 0px 1px 2px rgba(60, 64, 67, 0.3), 0px 1px 3px 1px rgba(60, 64, 67, 0.15);\n",
              "      fill: #174EA6;\n",
              "    }\n",
              "\n",
              "    .colab-df-buttons div {\n",
              "      margin-bottom: 4px;\n",
              "    }\n",
              "\n",
              "    [theme=dark] .colab-df-convert {\n",
              "      background-color: #3B4455;\n",
              "      fill: #D2E3FC;\n",
              "    }\n",
              "\n",
              "    [theme=dark] .colab-df-convert:hover {\n",
              "      background-color: #434B5C;\n",
              "      box-shadow: 0px 1px 3px 1px rgba(0, 0, 0, 0.15);\n",
              "      filter: drop-shadow(0px 1px 2px rgba(0, 0, 0, 0.3));\n",
              "      fill: #FFFFFF;\n",
              "    }\n",
              "  </style>\n",
              "\n",
              "    <script>\n",
              "      const buttonEl =\n",
              "        document.querySelector('#df-bdc7d648-338c-4a39-a6b7-3f3885321224 button.colab-df-convert');\n",
              "      buttonEl.style.display =\n",
              "        google.colab.kernel.accessAllowed ? 'block' : 'none';\n",
              "\n",
              "      async function convertToInteractive(key) {\n",
              "        const element = document.querySelector('#df-bdc7d648-338c-4a39-a6b7-3f3885321224');\n",
              "        const dataTable =\n",
              "          await google.colab.kernel.invokeFunction('convertToInteractive',\n",
              "                                                    [key], {});\n",
              "        if (!dataTable) return;\n",
              "\n",
              "        const docLinkHtml = 'Like what you see? Visit the ' +\n",
              "          '<a target=\"_blank\" href=https://colab.research.google.com/notebooks/data_table.ipynb>data table notebook</a>'\n",
              "          + ' to learn more about interactive tables.';\n",
              "        element.innerHTML = '';\n",
              "        dataTable['output_type'] = 'display_data';\n",
              "        await google.colab.output.renderOutput(dataTable, element);\n",
              "        const docLink = document.createElement('div');\n",
              "        docLink.innerHTML = docLinkHtml;\n",
              "        element.appendChild(docLink);\n",
              "      }\n",
              "    </script>\n",
              "  </div>\n",
              "\n",
              "\n",
              "<div id=\"df-d6ed1237-6a3f-45b5-a4ee-603de33cf40d\">\n",
              "  <button class=\"colab-df-quickchart\" onclick=\"quickchart('df-d6ed1237-6a3f-45b5-a4ee-603de33cf40d')\"\n",
              "            title=\"Suggest charts.\"\n",
              "            style=\"display:none;\">\n",
              "\n",
              "<svg xmlns=\"http://www.w3.org/2000/svg\" height=\"24px\"viewBox=\"0 0 24 24\"\n",
              "     width=\"24px\">\n",
              "    <g>\n",
              "        <path d=\"M19 3H5c-1.1 0-2 .9-2 2v14c0 1.1.9 2 2 2h14c1.1 0 2-.9 2-2V5c0-1.1-.9-2-2-2zM9 17H7v-7h2v7zm4 0h-2V7h2v10zm4 0h-2v-4h2v4z\"/>\n",
              "    </g>\n",
              "</svg>\n",
              "  </button>\n",
              "\n",
              "<style>\n",
              "  .colab-df-quickchart {\n",
              "      --bg-color: #E8F0FE;\n",
              "      --fill-color: #1967D2;\n",
              "      --hover-bg-color: #E2EBFA;\n",
              "      --hover-fill-color: #174EA6;\n",
              "      --disabled-fill-color: #AAA;\n",
              "      --disabled-bg-color: #DDD;\n",
              "  }\n",
              "\n",
              "  [theme=dark] .colab-df-quickchart {\n",
              "      --bg-color: #3B4455;\n",
              "      --fill-color: #D2E3FC;\n",
              "      --hover-bg-color: #434B5C;\n",
              "      --hover-fill-color: #FFFFFF;\n",
              "      --disabled-bg-color: #3B4455;\n",
              "      --disabled-fill-color: #666;\n",
              "  }\n",
              "\n",
              "  .colab-df-quickchart {\n",
              "    background-color: var(--bg-color);\n",
              "    border: none;\n",
              "    border-radius: 50%;\n",
              "    cursor: pointer;\n",
              "    display: none;\n",
              "    fill: var(--fill-color);\n",
              "    height: 32px;\n",
              "    padding: 0;\n",
              "    width: 32px;\n",
              "  }\n",
              "\n",
              "  .colab-df-quickchart:hover {\n",
              "    background-color: var(--hover-bg-color);\n",
              "    box-shadow: 0 1px 2px rgba(60, 64, 67, 0.3), 0 1px 3px 1px rgba(60, 64, 67, 0.15);\n",
              "    fill: var(--button-hover-fill-color);\n",
              "  }\n",
              "\n",
              "  .colab-df-quickchart-complete:disabled,\n",
              "  .colab-df-quickchart-complete:disabled:hover {\n",
              "    background-color: var(--disabled-bg-color);\n",
              "    fill: var(--disabled-fill-color);\n",
              "    box-shadow: none;\n",
              "  }\n",
              "\n",
              "  .colab-df-spinner {\n",
              "    border: 2px solid var(--fill-color);\n",
              "    border-color: transparent;\n",
              "    border-bottom-color: var(--fill-color);\n",
              "    animation:\n",
              "      spin 1s steps(1) infinite;\n",
              "  }\n",
              "\n",
              "  @keyframes spin {\n",
              "    0% {\n",
              "      border-color: transparent;\n",
              "      border-bottom-color: var(--fill-color);\n",
              "      border-left-color: var(--fill-color);\n",
              "    }\n",
              "    20% {\n",
              "      border-color: transparent;\n",
              "      border-left-color: var(--fill-color);\n",
              "      border-top-color: var(--fill-color);\n",
              "    }\n",
              "    30% {\n",
              "      border-color: transparent;\n",
              "      border-left-color: var(--fill-color);\n",
              "      border-top-color: var(--fill-color);\n",
              "      border-right-color: var(--fill-color);\n",
              "    }\n",
              "    40% {\n",
              "      border-color: transparent;\n",
              "      border-right-color: var(--fill-color);\n",
              "      border-top-color: var(--fill-color);\n",
              "    }\n",
              "    60% {\n",
              "      border-color: transparent;\n",
              "      border-right-color: var(--fill-color);\n",
              "    }\n",
              "    80% {\n",
              "      border-color: transparent;\n",
              "      border-right-color: var(--fill-color);\n",
              "      border-bottom-color: var(--fill-color);\n",
              "    }\n",
              "    90% {\n",
              "      border-color: transparent;\n",
              "      border-bottom-color: var(--fill-color);\n",
              "    }\n",
              "  }\n",
              "</style>\n",
              "\n",
              "  <script>\n",
              "    async function quickchart(key) {\n",
              "      const quickchartButtonEl =\n",
              "        document.querySelector('#' + key + ' button');\n",
              "      quickchartButtonEl.disabled = true;  // To prevent multiple clicks.\n",
              "      quickchartButtonEl.classList.add('colab-df-spinner');\n",
              "      try {\n",
              "        const charts = await google.colab.kernel.invokeFunction(\n",
              "            'suggestCharts', [key], {});\n",
              "      } catch (error) {\n",
              "        console.error('Error during call to suggestCharts:', error);\n",
              "      }\n",
              "      quickchartButtonEl.classList.remove('colab-df-spinner');\n",
              "      quickchartButtonEl.classList.add('colab-df-quickchart-complete');\n",
              "    }\n",
              "    (() => {\n",
              "      let quickchartButtonEl =\n",
              "        document.querySelector('#df-d6ed1237-6a3f-45b5-a4ee-603de33cf40d button');\n",
              "      quickchartButtonEl.style.display =\n",
              "        google.colab.kernel.accessAllowed ? 'block' : 'none';\n",
              "    })();\n",
              "  </script>\n",
              "</div>\n",
              "    </div>\n",
              "  </div>\n"
            ]
          },
          "metadata": {},
          "execution_count": 10
        }
      ]
    },
    {
      "cell_type": "code",
      "source": [],
      "metadata": {
        "id": "c4tczns05hl_"
      },
      "execution_count": null,
      "outputs": []
    },
    {
      "cell_type": "code",
      "source": [],
      "metadata": {
        "id": "H6wXNyaV5h3Q"
      },
      "execution_count": null,
      "outputs": []
    },
    {
      "cell_type": "markdown",
      "source": [
        "### **Merge all data to form time series data**"
      ],
      "metadata": {
        "id": "f-r8sWAUvDKR"
      }
    },
    {
      "cell_type": "code",
      "source": [
        "# Concatenate all DataFrames to get the whole dataframe\n",
        "df = pd.concat(dfs, ignore_index=True)"
      ],
      "metadata": {
        "id": "X50Hm9EqvDPr"
      },
      "execution_count": 6,
      "outputs": []
    },
    {
      "cell_type": "code",
      "source": [
        "df_price_by_route = df.groupby(['departure_airport', 'arrival_airport', 'purchase_date'])['price'].agg('mean').reset_index()"
      ],
      "metadata": {
        "id": "Oe_Etgz9vDR5"
      },
      "execution_count": 7,
      "outputs": []
    },
    {
      "cell_type": "code",
      "source": [
        "len(df_price_by_route)"
      ],
      "metadata": {
        "colab": {
          "base_uri": "https://localhost:8080/"
        },
        "id": "1asOefsk-ofn",
        "outputId": "21c8ca02-8a1f-4680-ceca-a33d123d8d26"
      },
      "execution_count": 8,
      "outputs": [
        {
          "output_type": "execute_result",
          "data": {
            "text/plain": [
              "636"
            ]
          },
          "metadata": {},
          "execution_count": 8
        }
      ]
    },
    {
      "cell_type": "code",
      "source": [
        "df_price_by_route"
      ],
      "metadata": {
        "colab": {
          "base_uri": "https://localhost:8080/",
          "height": 424
        },
        "id": "c0p9oBDm-sLR",
        "outputId": "0dd35f35-0e80-4570-8004-a6de57462092"
      },
      "execution_count": 9,
      "outputs": [
        {
          "output_type": "execute_result",
          "data": {
            "text/plain": [
              "    departure_airport arrival_airport purchase_date       price\n",
              "0                 BUR             OAK    2022-10-21  335.000000\n",
              "1                 BUR             OAK    2022-10-22  629.000000\n",
              "2                 BUR             SFO    2022-10-21  147.250000\n",
              "3                 BUR             SFO    2022-10-22  286.500000\n",
              "4                 BUR             SJC    2022-10-21         NaN\n",
              "..                ...             ...           ...         ...\n",
              "631               SNA             OAK    2022-10-22  325.000000\n",
              "632               SNA             SFO    2022-10-20  235.000000\n",
              "633               SNA             SFO    2022-10-21  220.000000\n",
              "634               SNA             SFO    2022-10-22  326.166667\n",
              "635               SNA             SJC    2022-10-22         NaN\n",
              "\n",
              "[636 rows x 4 columns]"
            ],
            "text/html": [
              "\n",
              "  <div id=\"df-8152cdfd-1966-43b7-8ac8-e516821f8778\" class=\"colab-df-container\">\n",
              "    <div>\n",
              "<style scoped>\n",
              "    .dataframe tbody tr th:only-of-type {\n",
              "        vertical-align: middle;\n",
              "    }\n",
              "\n",
              "    .dataframe tbody tr th {\n",
              "        vertical-align: top;\n",
              "    }\n",
              "\n",
              "    .dataframe thead th {\n",
              "        text-align: right;\n",
              "    }\n",
              "</style>\n",
              "<table border=\"1\" class=\"dataframe\">\n",
              "  <thead>\n",
              "    <tr style=\"text-align: right;\">\n",
              "      <th></th>\n",
              "      <th>departure_airport</th>\n",
              "      <th>arrival_airport</th>\n",
              "      <th>purchase_date</th>\n",
              "      <th>price</th>\n",
              "    </tr>\n",
              "  </thead>\n",
              "  <tbody>\n",
              "    <tr>\n",
              "      <th>0</th>\n",
              "      <td>BUR</td>\n",
              "      <td>OAK</td>\n",
              "      <td>2022-10-21</td>\n",
              "      <td>335.000000</td>\n",
              "    </tr>\n",
              "    <tr>\n",
              "      <th>1</th>\n",
              "      <td>BUR</td>\n",
              "      <td>OAK</td>\n",
              "      <td>2022-10-22</td>\n",
              "      <td>629.000000</td>\n",
              "    </tr>\n",
              "    <tr>\n",
              "      <th>2</th>\n",
              "      <td>BUR</td>\n",
              "      <td>SFO</td>\n",
              "      <td>2022-10-21</td>\n",
              "      <td>147.250000</td>\n",
              "    </tr>\n",
              "    <tr>\n",
              "      <th>3</th>\n",
              "      <td>BUR</td>\n",
              "      <td>SFO</td>\n",
              "      <td>2022-10-22</td>\n",
              "      <td>286.500000</td>\n",
              "    </tr>\n",
              "    <tr>\n",
              "      <th>4</th>\n",
              "      <td>BUR</td>\n",
              "      <td>SJC</td>\n",
              "      <td>2022-10-21</td>\n",
              "      <td>NaN</td>\n",
              "    </tr>\n",
              "    <tr>\n",
              "      <th>...</th>\n",
              "      <td>...</td>\n",
              "      <td>...</td>\n",
              "      <td>...</td>\n",
              "      <td>...</td>\n",
              "    </tr>\n",
              "    <tr>\n",
              "      <th>631</th>\n",
              "      <td>SNA</td>\n",
              "      <td>OAK</td>\n",
              "      <td>2022-10-22</td>\n",
              "      <td>325.000000</td>\n",
              "    </tr>\n",
              "    <tr>\n",
              "      <th>632</th>\n",
              "      <td>SNA</td>\n",
              "      <td>SFO</td>\n",
              "      <td>2022-10-20</td>\n",
              "      <td>235.000000</td>\n",
              "    </tr>\n",
              "    <tr>\n",
              "      <th>633</th>\n",
              "      <td>SNA</td>\n",
              "      <td>SFO</td>\n",
              "      <td>2022-10-21</td>\n",
              "      <td>220.000000</td>\n",
              "    </tr>\n",
              "    <tr>\n",
              "      <th>634</th>\n",
              "      <td>SNA</td>\n",
              "      <td>SFO</td>\n",
              "      <td>2022-10-22</td>\n",
              "      <td>326.166667</td>\n",
              "    </tr>\n",
              "    <tr>\n",
              "      <th>635</th>\n",
              "      <td>SNA</td>\n",
              "      <td>SJC</td>\n",
              "      <td>2022-10-22</td>\n",
              "      <td>NaN</td>\n",
              "    </tr>\n",
              "  </tbody>\n",
              "</table>\n",
              "<p>636 rows × 4 columns</p>\n",
              "</div>\n",
              "    <div class=\"colab-df-buttons\">\n",
              "\n",
              "  <div class=\"colab-df-container\">\n",
              "    <button class=\"colab-df-convert\" onclick=\"convertToInteractive('df-8152cdfd-1966-43b7-8ac8-e516821f8778')\"\n",
              "            title=\"Convert this dataframe to an interactive table.\"\n",
              "            style=\"display:none;\">\n",
              "\n",
              "  <svg xmlns=\"http://www.w3.org/2000/svg\" height=\"24px\" viewBox=\"0 -960 960 960\">\n",
              "    <path d=\"M120-120v-720h720v720H120Zm60-500h600v-160H180v160Zm220 220h160v-160H400v160Zm0 220h160v-160H400v160ZM180-400h160v-160H180v160Zm440 0h160v-160H620v160ZM180-180h160v-160H180v160Zm440 0h160v-160H620v160Z\"/>\n",
              "  </svg>\n",
              "    </button>\n",
              "\n",
              "  <style>\n",
              "    .colab-df-container {\n",
              "      display:flex;\n",
              "      gap: 12px;\n",
              "    }\n",
              "\n",
              "    .colab-df-convert {\n",
              "      background-color: #E8F0FE;\n",
              "      border: none;\n",
              "      border-radius: 50%;\n",
              "      cursor: pointer;\n",
              "      display: none;\n",
              "      fill: #1967D2;\n",
              "      height: 32px;\n",
              "      padding: 0 0 0 0;\n",
              "      width: 32px;\n",
              "    }\n",
              "\n",
              "    .colab-df-convert:hover {\n",
              "      background-color: #E2EBFA;\n",
              "      box-shadow: 0px 1px 2px rgba(60, 64, 67, 0.3), 0px 1px 3px 1px rgba(60, 64, 67, 0.15);\n",
              "      fill: #174EA6;\n",
              "    }\n",
              "\n",
              "    .colab-df-buttons div {\n",
              "      margin-bottom: 4px;\n",
              "    }\n",
              "\n",
              "    [theme=dark] .colab-df-convert {\n",
              "      background-color: #3B4455;\n",
              "      fill: #D2E3FC;\n",
              "    }\n",
              "\n",
              "    [theme=dark] .colab-df-convert:hover {\n",
              "      background-color: #434B5C;\n",
              "      box-shadow: 0px 1px 3px 1px rgba(0, 0, 0, 0.15);\n",
              "      filter: drop-shadow(0px 1px 2px rgba(0, 0, 0, 0.3));\n",
              "      fill: #FFFFFF;\n",
              "    }\n",
              "  </style>\n",
              "\n",
              "    <script>\n",
              "      const buttonEl =\n",
              "        document.querySelector('#df-8152cdfd-1966-43b7-8ac8-e516821f8778 button.colab-df-convert');\n",
              "      buttonEl.style.display =\n",
              "        google.colab.kernel.accessAllowed ? 'block' : 'none';\n",
              "\n",
              "      async function convertToInteractive(key) {\n",
              "        const element = document.querySelector('#df-8152cdfd-1966-43b7-8ac8-e516821f8778');\n",
              "        const dataTable =\n",
              "          await google.colab.kernel.invokeFunction('convertToInteractive',\n",
              "                                                    [key], {});\n",
              "        if (!dataTable) return;\n",
              "\n",
              "        const docLinkHtml = 'Like what you see? Visit the ' +\n",
              "          '<a target=\"_blank\" href=https://colab.research.google.com/notebooks/data_table.ipynb>data table notebook</a>'\n",
              "          + ' to learn more about interactive tables.';\n",
              "        element.innerHTML = '';\n",
              "        dataTable['output_type'] = 'display_data';\n",
              "        await google.colab.output.renderOutput(dataTable, element);\n",
              "        const docLink = document.createElement('div');\n",
              "        docLink.innerHTML = docLinkHtml;\n",
              "        element.appendChild(docLink);\n",
              "      }\n",
              "    </script>\n",
              "  </div>\n",
              "\n",
              "\n",
              "<div id=\"df-2d17055d-2be4-43f7-894d-f57647cf856b\">\n",
              "  <button class=\"colab-df-quickchart\" onclick=\"quickchart('df-2d17055d-2be4-43f7-894d-f57647cf856b')\"\n",
              "            title=\"Suggest charts.\"\n",
              "            style=\"display:none;\">\n",
              "\n",
              "<svg xmlns=\"http://www.w3.org/2000/svg\" height=\"24px\"viewBox=\"0 0 24 24\"\n",
              "     width=\"24px\">\n",
              "    <g>\n",
              "        <path d=\"M19 3H5c-1.1 0-2 .9-2 2v14c0 1.1.9 2 2 2h14c1.1 0 2-.9 2-2V5c0-1.1-.9-2-2-2zM9 17H7v-7h2v7zm4 0h-2V7h2v10zm4 0h-2v-4h2v4z\"/>\n",
              "    </g>\n",
              "</svg>\n",
              "  </button>\n",
              "\n",
              "<style>\n",
              "  .colab-df-quickchart {\n",
              "      --bg-color: #E8F0FE;\n",
              "      --fill-color: #1967D2;\n",
              "      --hover-bg-color: #E2EBFA;\n",
              "      --hover-fill-color: #174EA6;\n",
              "      --disabled-fill-color: #AAA;\n",
              "      --disabled-bg-color: #DDD;\n",
              "  }\n",
              "\n",
              "  [theme=dark] .colab-df-quickchart {\n",
              "      --bg-color: #3B4455;\n",
              "      --fill-color: #D2E3FC;\n",
              "      --hover-bg-color: #434B5C;\n",
              "      --hover-fill-color: #FFFFFF;\n",
              "      --disabled-bg-color: #3B4455;\n",
              "      --disabled-fill-color: #666;\n",
              "  }\n",
              "\n",
              "  .colab-df-quickchart {\n",
              "    background-color: var(--bg-color);\n",
              "    border: none;\n",
              "    border-radius: 50%;\n",
              "    cursor: pointer;\n",
              "    display: none;\n",
              "    fill: var(--fill-color);\n",
              "    height: 32px;\n",
              "    padding: 0;\n",
              "    width: 32px;\n",
              "  }\n",
              "\n",
              "  .colab-df-quickchart:hover {\n",
              "    background-color: var(--hover-bg-color);\n",
              "    box-shadow: 0 1px 2px rgba(60, 64, 67, 0.3), 0 1px 3px 1px rgba(60, 64, 67, 0.15);\n",
              "    fill: var(--button-hover-fill-color);\n",
              "  }\n",
              "\n",
              "  .colab-df-quickchart-complete:disabled,\n",
              "  .colab-df-quickchart-complete:disabled:hover {\n",
              "    background-color: var(--disabled-bg-color);\n",
              "    fill: var(--disabled-fill-color);\n",
              "    box-shadow: none;\n",
              "  }\n",
              "\n",
              "  .colab-df-spinner {\n",
              "    border: 2px solid var(--fill-color);\n",
              "    border-color: transparent;\n",
              "    border-bottom-color: var(--fill-color);\n",
              "    animation:\n",
              "      spin 1s steps(1) infinite;\n",
              "  }\n",
              "\n",
              "  @keyframes spin {\n",
              "    0% {\n",
              "      border-color: transparent;\n",
              "      border-bottom-color: var(--fill-color);\n",
              "      border-left-color: var(--fill-color);\n",
              "    }\n",
              "    20% {\n",
              "      border-color: transparent;\n",
              "      border-left-color: var(--fill-color);\n",
              "      border-top-color: var(--fill-color);\n",
              "    }\n",
              "    30% {\n",
              "      border-color: transparent;\n",
              "      border-left-color: var(--fill-color);\n",
              "      border-top-color: var(--fill-color);\n",
              "      border-right-color: var(--fill-color);\n",
              "    }\n",
              "    40% {\n",
              "      border-color: transparent;\n",
              "      border-right-color: var(--fill-color);\n",
              "      border-top-color: var(--fill-color);\n",
              "    }\n",
              "    60% {\n",
              "      border-color: transparent;\n",
              "      border-right-color: var(--fill-color);\n",
              "    }\n",
              "    80% {\n",
              "      border-color: transparent;\n",
              "      border-right-color: var(--fill-color);\n",
              "      border-bottom-color: var(--fill-color);\n",
              "    }\n",
              "    90% {\n",
              "      border-color: transparent;\n",
              "      border-bottom-color: var(--fill-color);\n",
              "    }\n",
              "  }\n",
              "</style>\n",
              "\n",
              "  <script>\n",
              "    async function quickchart(key) {\n",
              "      const quickchartButtonEl =\n",
              "        document.querySelector('#' + key + ' button');\n",
              "      quickchartButtonEl.disabled = true;  // To prevent multiple clicks.\n",
              "      quickchartButtonEl.classList.add('colab-df-spinner');\n",
              "      try {\n",
              "        const charts = await google.colab.kernel.invokeFunction(\n",
              "            'suggestCharts', [key], {});\n",
              "      } catch (error) {\n",
              "        console.error('Error during call to suggestCharts:', error);\n",
              "      }\n",
              "      quickchartButtonEl.classList.remove('colab-df-spinner');\n",
              "      quickchartButtonEl.classList.add('colab-df-quickchart-complete');\n",
              "    }\n",
              "    (() => {\n",
              "      let quickchartButtonEl =\n",
              "        document.querySelector('#df-2d17055d-2be4-43f7-894d-f57647cf856b button');\n",
              "      quickchartButtonEl.style.display =\n",
              "        google.colab.kernel.accessAllowed ? 'block' : 'none';\n",
              "    })();\n",
              "  </script>\n",
              "</div>\n",
              "    </div>\n",
              "  </div>\n"
            ]
          },
          "metadata": {},
          "execution_count": 9
        }
      ]
    },
    {
      "cell_type": "code",
      "source": [],
      "metadata": {
        "id": "7qXBbivnDODe"
      },
      "execution_count": null,
      "outputs": []
    },
    {
      "cell_type": "code",
      "source": [
        "df_price_by_dep = df.groupby(['departure_airport', 'purchase_date'])['price'].agg('mean').reset_index()"
      ],
      "metadata": {
        "id": "ZITpL2lpDOFz"
      },
      "execution_count": 10,
      "outputs": []
    },
    {
      "cell_type": "code",
      "source": [
        "len(df_price_by_dep)"
      ],
      "metadata": {
        "colab": {
          "base_uri": "https://localhost:8080/"
        },
        "id": "L1R1El_FDOIa",
        "outputId": "438b705d-6d02-4dc4-b6a3-f530c863298c"
      },
      "execution_count": 11,
      "outputs": [
        {
          "output_type": "execute_result",
          "data": {
            "text/plain": [
              "209"
            ]
          },
          "metadata": {},
          "execution_count": 11
        }
      ]
    },
    {
      "cell_type": "code",
      "source": [
        "df_price_by_arr = df.groupby(['arrival_airport', 'departure_date'])['price'].agg('mean').reset_index()"
      ],
      "metadata": {
        "id": "_S9UX26sDOM8"
      },
      "execution_count": 12,
      "outputs": []
    },
    {
      "cell_type": "code",
      "source": [],
      "metadata": {
        "id": "ouBMpXkQDSIi"
      },
      "execution_count": null,
      "outputs": []
    },
    {
      "cell_type": "markdown",
      "source": [
        "### **Compute average price for each purchase date**"
      ],
      "metadata": {
        "id": "SSMzbBKu8swG"
      }
    },
    {
      "cell_type": "code",
      "source": [],
      "metadata": {
        "id": "MOnWBn2wQ2nw"
      },
      "execution_count": null,
      "outputs": []
    },
    {
      "cell_type": "code",
      "source": [
        "# Print all unique departure airports\n",
        "df['departure_airport'].unique()"
      ],
      "metadata": {
        "colab": {
          "base_uri": "https://localhost:8080/"
        },
        "id": "2Pp788-fQ2rT",
        "outputId": "d478e23c-cffc-4500-d492-99e0921f8dcd"
      },
      "execution_count": 13,
      "outputs": [
        {
          "output_type": "execute_result",
          "data": {
            "text/plain": [
              "array(['ORD', 'MDW', 'LAX', 'SFO', 'SJC', 'OAK', 'SNA', 'BUR'],\n",
              "      dtype=object)"
            ]
          },
          "metadata": {},
          "execution_count": 13
        }
      ]
    },
    {
      "cell_type": "code",
      "source": [],
      "metadata": {
        "id": "aOuK_q6CvDUJ"
      },
      "execution_count": null,
      "outputs": []
    },
    {
      "cell_type": "markdown",
      "source": [
        "#### **Departed from LAX**"
      ],
      "metadata": {
        "id": "vs9grZtmQYt9"
      }
    },
    {
      "cell_type": "code",
      "source": [
        "df_price_by_dep_la = df_price_by_dep[(df_price_by_dep['departure_airport'] == 'LAX') | (df_price_by_dep['departure_airport'] == 'SNA')].groupby(['purchase_date'])['price'].agg('mean').reset_index()"
      ],
      "metadata": {
        "id": "KVBUMw10DOKr"
      },
      "execution_count": 14,
      "outputs": []
    },
    {
      "cell_type": "code",
      "source": [
        "plt.figure(figsize=(10, 6))  # Adjust figure size as needed\n",
        "\n",
        "plt.plot(df_price_by_dep_la['purchase_date'], df_price_by_dep_la['price'], label='Ticket Price', color='blue', marker='o')\n",
        "\n",
        "plt.title('LA Ticket Price Over Time')\n",
        "plt.xlabel('Date')\n",
        "plt.ylabel('Price')\n",
        "plt.legend()\n",
        "plt.grid(True)\n",
        "# tilt axis label\n",
        "plt.xticks(rotation=45)\n",
        "\n",
        "plt.show()"
      ],
      "metadata": {
        "colab": {
          "base_uri": "https://localhost:8080/",
          "height": 617
        },
        "id": "0Y60In9YM1WN",
        "outputId": "319ac997-6178-4a44-ac88-77a6c6cfdbb2"
      },
      "execution_count": 15,
      "outputs": [
        {
          "output_type": "display_data",
          "data": {
            "text/plain": [
              "<Figure size 1000x600 with 1 Axes>"
            ],
            "image/png": "[encoded data removed]"
          },
          "metadata": {}
        }
      ]
    },
    {
      "cell_type": "markdown",
      "source": [
        "#### **Departed from CHI**"
      ],
      "metadata": {
        "id": "qLJ0jcEdQb6a"
      }
    },
    {
      "cell_type": "code",
      "source": [
        "df_price_by_dep_chi = df_price_by_dep[(df_price_by_dep['departure_airport'] == 'ORD') | (df_price_by_dep['departure_airport'] == 'MDW')].groupby(['purchase_date'])['price'].agg('mean').reset_index()"
      ],
      "metadata": {
        "id": "JdQE0iDsQKh3"
      },
      "execution_count": 16,
      "outputs": []
    },
    {
      "cell_type": "code",
      "source": [
        "plt.figure(figsize=(10, 6))  # Adjust figure size as needed\n",
        "\n",
        "plt.plot(df_price_by_dep_chi['purchase_date'], df_price_by_dep_chi['price'], label='Ticket Price', color='blue', marker='o')\n",
        "\n",
        "plt.title('CHI Ticket Price Over Time')\n",
        "plt.xlabel('Date')\n",
        "plt.ylabel('Price')\n",
        "plt.legend()\n",
        "plt.grid(True)\n",
        "# tilt axis label\n",
        "plt.xticks(rotation=45)\n",
        "\n",
        "plt.show()"
      ],
      "metadata": {
        "colab": {
          "base_uri": "https://localhost:8080/",
          "height": 617
        },
        "id": "3Xta36shQKlb",
        "outputId": "7a45c723-96b4-41bb-e30e-23533b315a14"
      },
      "execution_count": 17,
      "outputs": [
        {
          "output_type": "display_data",
          "data": {
            "text/plain": [
              "<Figure size 1000x600 with 1 Axes>"
            ],
            "image/png": "[encoded data removed]"
          },
          "metadata": {}
        }
      ]
    },
    {
      "cell_type": "code",
      "source": [],
      "metadata": {
        "id": "wHfvwrgBverT"
      },
      "execution_count": null,
      "outputs": []
    },
    {
      "cell_type": "markdown",
      "source": [
        "#### **Departed from San Francisco**"
      ],
      "metadata": {
        "id": "ZhKDj4loT8c-"
      }
    },
    {
      "cell_type": "code",
      "source": [
        "df_price_by_dep_sf = df_price_by_dep[(df_price_by_dep['departure_airport'] == 'SFO') | (df_price_by_dep['departure_airport'] == 'SJC') | (df_price_by_dep['departure_airport'] == 'OAK')].groupby(['purchase_date'])['price'].agg('mean').reset_index()"
      ],
      "metadata": {
        "id": "j_TY9wDpTvPA"
      },
      "execution_count": 18,
      "outputs": []
    },
    {
      "cell_type": "code",
      "source": [
        "plt.figure(figsize=(10, 6))  # Adjust figure size as needed\n",
        "\n",
        "plt.plot(df_price_by_dep_sf['purchase_date'], df_price_by_dep_sf['price'], label='Ticket Price', color='blue', marker='o')\n",
        "\n",
        "plt.title('SF Ticket Price Over Time')\n",
        "plt.xlabel('Date')\n",
        "plt.ylabel('Price')\n",
        "plt.legend()\n",
        "plt.grid(True)\n",
        "# tilt axis label\n",
        "plt.xticks(rotation=45)\n",
        "\n",
        "plt.show()"
      ],
      "metadata": {
        "colab": {
          "base_uri": "https://localhost:8080/",
          "height": 617
        },
        "id": "TQVFN2L_TvRS",
        "outputId": "4b787dd0-3f8c-464f-e9c5-1fed59819871"
      },
      "execution_count": 19,
      "outputs": [
        {
          "output_type": "display_data",
          "data": {
            "text/plain": [
              "<Figure size 1000x600 with 1 Axes>"
            ],
            "image/png": "[encoded data removed]"
          },
          "metadata": {}
        }
      ]
    },
    {
      "cell_type": "markdown",
      "source": [
        "## **Exploratory Analysis**"
      ],
      "metadata": {
        "id": "rRBrgLnok93k"
      }
    },
    {
      "cell_type": "code",
      "source": [
        "import matplotlib.pyplot as plt"
      ],
      "metadata": {
        "id": "xOU-CsdAk99z"
      },
      "execution_count": 20,
      "outputs": []
    },
    {
      "cell_type": "code",
      "source": [],
      "metadata": {
        "id": "UAipViCQk-Ad"
      },
      "execution_count": null,
      "outputs": []
    },
    {
      "cell_type": "code",
      "source": [],
      "metadata": {
        "id": "d8DsqYffk-C9"
      },
      "execution_count": null,
      "outputs": []
    },
    {
      "cell_type": "markdown",
      "source": [
        "## **Model**"
      ],
      "metadata": {
        "id": "-3zhBCx6ve30"
      }
    },
    {
      "cell_type": "code",
      "source": [],
      "metadata": {
        "id": "UOzQJincvfKg"
      },
      "execution_count": null,
      "outputs": []
    },
    {
      "cell_type": "markdown",
      "source": [
        "#### **Predicting price departing from SF**"
      ],
      "metadata": {
        "id": "TgYz0wxaX_Xy"
      }
    },
    {
      "cell_type": "markdown",
      "source": [
        "##### **ARIMA Model**"
      ],
      "metadata": {
        "id": "8PctYiW_4kWH"
      }
    },
    {
      "cell_type": "code",
      "source": [
        "# Import necessary libraries\n",
        "import matplotlib.pyplot as plt\n",
        "from statsmodels.tsa.arima.model import ARIMA\n",
        "from sklearn.model_selection import train_test_split\n",
        "from sklearn.metrics import mean_squared_error\n",
        "\n",
        "# Load your flight ticket price data (replace 'your_data.csv' with your actual file)\n",
        "data = df_price_by_dep_sf.reset_index()\n",
        "data['purchase_date'] = pd.to_datetime(data['purchase_date'])\n",
        "data.set_index('purchase_date', inplace=True)\n",
        "\n",
        "# Visualize the time series\n",
        "plt.figure(figsize=(12, 6))\n",
        "plt.plot(data['price'])\n",
        "plt.title('SF Flight Ticket Prices Over Time')\n",
        "plt.xlabel('Purchase Date')\n",
        "plt.ylabel('Price')\n",
        "plt.show()\n"
      ],
      "metadata": {
        "id": "S3fAP6eGMjE0",
        "colab": {
          "base_uri": "https://localhost:8080/",
          "height": 564
        },
        "outputId": "36b7ae67-63cd-4827-fabc-40992ade7d44"
      },
      "execution_count": 21,
      "outputs": [
        {
          "output_type": "display_data",
          "data": {
            "text/plain": [
              "<Figure size 1200x600 with 1 Axes>"
            ],
            "image/png": "[encoded data removed]"
          },
          "metadata": {}
        }
      ]
    },
    {
      "cell_type": "code",
      "source": [
        "# Train-test split\n",
        "train_size = int(len(data) * 0.8)\n",
        "train, test = data[:train_size], data[train_size:]\n",
        "\n",
        "# Build and train the ARIMA model\n",
        "order = (1, 1, 1)  # Order parameters (p, d, q)\n",
        "model = ARIMA(train['price'], order=order)\n",
        "model_fit = model.fit()\n",
        "\n",
        "# Forecasting\n",
        "predictions = model_fit.predict(start=len(train), end=len(train) + len(test) - 1, typ='levels')\n",
        "\n",
        "# Evaluate the model\n",
        "mse = mean_squared_error(test['price'], predictions)\n",
        "print(f'Mean Squared Error: {mse}')\n",
        "\n",
        "# Visualize the results\n",
        "plt.figure(figsize=(12, 6))\n",
        "plt.plot(train.index, train['price'], label='Train')\n",
        "plt.plot(test.index, test['price'], label='Test')\n",
        "plt.plot(test.index, predictions, label='Predictions', color='red')\n",
        "plt.title('ARIMA Model for Flight Ticket Prices')\n",
        "plt.xlabel('Date')\n",
        "plt.ylabel('Price')\n",
        "plt.legend()\n",
        "plt.show()\n"
      ],
      "metadata": {
        "id": "WZvMdneSMjHo",
        "colab": {
          "base_uri": "https://localhost:8080/",
          "height": 810
        },
        "outputId": "2cc6a2c6-7bc5-4433-f949-d1f60ac291ae"
      },
      "execution_count": 22,
      "outputs": [
        {
          "output_type": "stream",
          "name": "stderr",
          "text": [
            "/usr/local/lib/python3.10/dist-packages/statsmodels/tsa/base/tsa_model.py:473: ValueWarning: A date index has been provided, but it has no associated frequency information and so will be ignored when e.g. forecasting.\n",
            "  self._init_dates(dates, freq)\n",
            "/usr/local/lib/python3.10/dist-packages/statsmodels/tsa/base/tsa_model.py:473: ValueWarning: A date index has been provided, but it has no associated frequency information and so will be ignored when e.g. forecasting.\n",
            "  self._init_dates(dates, freq)\n",
            "/usr/local/lib/python3.10/dist-packages/statsmodels/tsa/base/tsa_model.py:473: ValueWarning: A date index has been provided, but it has no associated frequency information and so will be ignored when e.g. forecasting.\n",
            "  self._init_dates(dates, freq)\n",
            "/usr/local/lib/python3.10/dist-packages/statsmodels/tsa/base/tsa_model.py:836: ValueWarning: No supported index is available. Prediction results will be given with an integer index beginning at `start`.\n",
            "  return get_prediction_index(\n",
            "/usr/local/lib/python3.10/dist-packages/statsmodels/tsa/base/tsa_model.py:836: FutureWarning: No supported index is available. In the next version, calling this method in a model without a supported index will result in an exception.\n",
            "  return get_prediction_index(\n",
            "/usr/local/lib/python3.10/dist-packages/statsmodels/tsa/statespace/representation.py:374: FutureWarning: Unknown keyword arguments: dict_keys(['typ']).Passing unknown keyword arguments will raise a TypeError beginning in version 0.15.\n",
            "  warnings.warn(msg, FutureWarning)\n"
          ]
        },
        {
          "output_type": "stream",
          "name": "stdout",
          "text": [
            "Mean Squared Error: 62.91152916543518\n"
          ]
        },
        {
          "output_type": "display_data",
          "data": {
            "text/plain": [
              "<Figure size 1200x600 with 1 Axes>"
            ],
            "image/png": "[encoded data removed]"
          },
          "metadata": {}
        }
      ]
    },
    {
      "cell_type": "markdown",
      "source": [
        "##### **Cubic Splines**"
      ],
      "metadata": {
        "id": "zKWsWPmX4yh-"
      }
    },
    {
      "cell_type": "code",
      "source": [
        "import numpy as np\n",
        "from scipy.interpolate import CubicSpline\n",
        "import matplotlib.pyplot as plt\n",
        "\n",
        "# Assuming 'train' is your training data with 'price' and 'test' is your test data\n",
        "\n",
        "# Fit a cubic spline to the training data\n",
        "spline = CubicSpline(train.index, train['price'], bc_type='natural')\n",
        "\n",
        "# Generate interpolated values for the test set\n",
        "spline_predictions = spline(test.index)\n",
        "\n",
        "# Evaluate the spline model\n",
        "spline_mse = mean_squared_error(test['price'], spline_predictions)\n",
        "print(f'Cubic Spline Mean Squared Error: {spline_mse}')\n",
        "\n",
        "# Visualize the results\n",
        "plt.figure(figsize=(12, 6))\n",
        "plt.plot(train.index, train['price'], label='Train')\n",
        "plt.plot(test.index, test['price'], label='Test')\n",
        "plt.plot(test.index, spline_predictions, label='Spline Predictions', color='green')\n",
        "plt.title('Cubic Spline Interpolation for Flight Ticket Prices')\n",
        "plt.xlabel('Date')\n",
        "plt.ylabel('Price')\n",
        "plt.legend()\n",
        "plt.show()"
      ],
      "metadata": {
        "colab": {
          "base_uri": "https://localhost:8080/",
          "height": 581
        },
        "id": "S9PAOvY_4yqo",
        "outputId": "4166cf86-c98e-480d-b6f5-60b09f96f2d9"
      },
      "execution_count": 28,
      "outputs": [
        {
          "output_type": "stream",
          "name": "stdout",
          "text": [
            "Cubic Spline Mean Squared Error: 5612.735699253635\n"
          ]
        },
        {
          "output_type": "display_data",
          "data": {
            "text/plain": [
              "<Figure size 1200x600 with 1 Axes>"
            ],
            "image/png": "[encoded data removed]"
          },
          "metadata": {}
        }
      ]
    },
    {
      "cell_type": "code",
      "source": [
        "import numpy as np\n",
        "from scipy.interpolate import CubicSpline\n",
        "import matplotlib.pyplot as plt\n",
        "\n",
        "# Assuming 'train' is your training data with 'price' and 'test' is your test data\n",
        "\n",
        "# Adjust the smoothing parameter 's' to find the best fit\n",
        "s_values = [0.1, 0.5, 1.0, 2.0]  # Example values, adjust as needed\n",
        "\n",
        "plt.figure(figsize=(12, 6))\n",
        "plt.plot(train.index, train['price'], label='Train')\n",
        "\n",
        "for s_value in s_values:\n",
        "    # Fit a cubic spline to the training data\n",
        "    spline = CubicSpline(train.index, train['price'], bc_type='natural')\n",
        "\n",
        "    # Generate interpolated values for the test set\n",
        "    spline_predictions = spline(test.index)\n",
        "\n",
        "    # Evaluate the spline model\n",
        "    spline_mse = mean_squared_error(test['price'], spline_predictions)\n",
        "\n",
        "    # Visualize the results\n",
        "    label = f'Spline Predictions (s={s_value}, MSE={spline_mse:.2f})'\n",
        "    plt.plot(test.index, spline_predictions, label=label)\n",
        "\n",
        "plt.title('Cubic Spline Interpolation for Flight Ticket Prices')\n",
        "plt.xlabel('Date')\n",
        "plt.ylabel('Price')\n",
        "plt.legend()\n",
        "plt.show()\n"
      ],
      "metadata": {
        "colab": {
          "base_uri": "https://localhost:8080/",
          "height": 564
        },
        "id": "YG-1GCbx4ytR",
        "outputId": "c996d9af-5a9c-40cc-8094-6055a519cd29"
      },
      "execution_count": 27,
      "outputs": [
        {
          "output_type": "display_data",
          "data": {
            "text/plain": [
              "<Figure size 1200x600 with 1 Axes>"
            ],
            "image/png": "[encoded data removed]"
          },
          "metadata": {}
        }
      ]
    },
    {
      "cell_type": "markdown",
      "source": [
        "##### **XGBoost**\n",
        "\n",
        "Reference: https://machinelearningmastery.com/xgboost-for-time-series-forecasting/"
      ],
      "metadata": {
        "id": "xHgBpdS0-DZ1"
      }
    },
    {
      "cell_type": "markdown",
      "source": [
        "**Converting time series forecasting into supervised learning**\n",
        "\n",
        "- We can effectively convert a time series data into a supervised learning data by the sliding window technique"
      ],
      "metadata": {
        "id": "DzYNo6nkPI8E"
      }
    },
    {
      "cell_type": "code",
      "source": [
        "# transform a time series dataset into a supervised learning dataset\n",
        "def series_to_supervised(data, n_in=1, n_out=1, dropnan=True):\n",
        "  n_vars = 1 if type(data) is list else data.shape[1]\n",
        "  df = pd.DataFrame(data)\n",
        "  cols = list()\n",
        "\n",
        "  # input sequence (t-n, ... t-1)\n",
        "  for i in range(n_in, 0, -1):\n",
        "    cols.append(df.shift(i))\n",
        "  # forecast sequence (t, t+1, ... t+n)\n",
        "  for i in range(0, n_out):\n",
        "    cols.append(df.shift(-i))\n",
        "  # put it all together\n",
        "  agg = pd.concat(cols, axis=1)\n",
        "  # drop rows with NaN values\n",
        "  if dropnan:\n",
        "    agg.dropna(inplace=True)\n",
        "\n",
        "  agg.columns = ['i','price0','i','price1']\n",
        "\n",
        "  return agg.reset_index()[['price0','price1']]"
      ],
      "metadata": {
        "id": "kZ4tNXFN-DiF"
      },
      "execution_count": 63,
      "outputs": []
    },
    {
      "cell_type": "code",
      "source": [
        "from sklearn.preprocessing import OneHotEncoder"
      ],
      "metadata": {
        "id": "Nnwdt8foIehb"
      },
      "execution_count": 34,
      "outputs": []
    },
    {
      "cell_type": "code",
      "source": [
        "train,test = series_to_supervised(train), series_to_supervised(test)"
      ],
      "metadata": {
        "id": "RdB3WhFt-Dka"
      },
      "execution_count": 97,
      "outputs": []
    },
    {
      "cell_type": "code",
      "source": [
        "import xgboost\n",
        "# fit an xgboost model and make a one step prediction\n",
        "def xgboost_forecast(train, test):\n",
        "  # transform list into array\n",
        "  train = np.array(train)\n",
        "  # split into input and output columns\n",
        "  trainX, trainy = train[:, :-1], train[:, -1]\n",
        "  print(trainX, trainy)\n",
        "\n",
        "  # fit model\n",
        "  model = xgboost.XGBRegressor(objective='reg:squarederror', n_estimators=1000)\n",
        "  model.fit(trainX, trainy)\n",
        "\n",
        "  # make a one-step prediction\n",
        "  test = np.array(test)\n",
        "  testX, testy = test[:, :-1], test[:, -1]\n",
        "  yhat = model.predict(testX)\n",
        "  return yhat"
      ],
      "metadata": {
        "id": "yftpRZNP4yyG"
      },
      "execution_count": 94,
      "outputs": []
    },
    {
      "cell_type": "code",
      "source": [
        "xgboost_forecast(train, test)"
      ],
      "metadata": {
        "id": "Gh1fpbdkMjKi",
        "colab": {
          "base_uri": "https://localhost:8080/"
        },
        "outputId": "a5b946e8-cf1b-460c-a6e0-6ee50b297039"
      },
      "execution_count": 95,
      "outputs": [
        {
          "output_type": "stream",
          "name": "stdout",
          "text": [
            "[[160.17129015]\n",
            " [167.42446126]\n",
            " [166.93657998]\n",
            " [168.46475006]\n",
            " [176.64548577]\n",
            " [180.34796342]\n",
            " [182.5352628 ]\n",
            " [194.14444587]\n",
            " [199.34225482]\n",
            " [187.20854753]\n",
            " [189.28419216]\n",
            " [188.19321662]\n",
            " [185.60853833]\n",
            " [186.93924153]\n",
            " [185.92946175]\n",
            " [192.66553299]\n",
            " [180.72026191]\n",
            " [175.29025622]\n",
            " [176.21165699]\n",
            " [176.86039946]\n",
            " [177.87297923]\n",
            " [174.44566462]\n",
            " [169.41726189]\n",
            " [163.73352012]\n",
            " [159.27692604]] [167.42446126 166.93657998 168.46475006 176.64548577 180.34796342\n",
            " 182.5352628  194.14444587 199.34225482 187.20854753 189.28419216\n",
            " 188.19321662 185.60853833 186.93924153 185.92946175 192.66553299\n",
            " 180.72026191 175.29025622 176.21165699 176.86039946 177.87297923\n",
            " 174.44566462 169.41726189 163.73352012 159.27692604 152.06597975]\n"
          ]
        },
        {
          "output_type": "execute_result",
          "data": {
            "text/plain": [
              "array([152.06721, 152.06721, 152.06721, 152.06721, 152.06721],\n",
              "      dtype=float32)"
            ]
          },
          "metadata": {},
          "execution_count": 95
        }
      ]
    },
    {
      "cell_type": "code",
      "source": [
        "# transform list into array\n",
        "train = np.array(train)\n",
        "# split into input and output columns\n",
        "trainX, trainy = train[:, :-1], train[:, -1]\n",
        "\n",
        "# fit model\n",
        "model = xgboost.XGBRegressor(objective='reg:squarederror', n_estimators=1000)\n",
        "model.fit(trainX, trainy)\n",
        "\n",
        "# make a one-step prediction\n",
        "test = np.array(test)\n",
        "testX, testy = test[:, :-1], test[:, -1]\n",
        "model.predict(testX)"
      ],
      "metadata": {
        "colab": {
          "base_uri": "https://localhost:8080/"
        },
        "id": "pPLwRWjvTtrl",
        "outputId": "106a0366-0995-4185-dd7f-b1ee790ac7d9"
      },
      "execution_count": 98,
      "outputs": [
        {
          "output_type": "execute_result",
          "data": {
            "text/plain": [
              "array([152.06723, 152.06723, 152.06723, 152.06723], dtype=float32)"
            ]
          },
          "metadata": {},
          "execution_count": 98
        }
      ]
    },
    {
      "cell_type": "code",
      "source": [
        "model.predict([120])"
      ],
      "metadata": {
        "colab": {
          "base_uri": "https://localhost:8080/"
        },
        "id": "TavzsRvEUvQa",
        "outputId": "e1c101b6-c1dc-4e03-8628-6740acc5b33e"
      },
      "execution_count": 102,
      "outputs": [
        {
          "output_type": "execute_result",
          "data": {
            "text/plain": [
              "array([152.06723], dtype=float32)"
            ]
          },
          "metadata": {},
          "execution_count": 102
        }
      ]
    },
    {
      "cell_type": "code",
      "source": [
        "test"
      ],
      "metadata": {
        "colab": {
          "base_uri": "https://localhost:8080/"
        },
        "id": "nnl6AK9CUsiA",
        "outputId": "89e9d2ed-eae5-45d8-8ecc-8755ae557038"
      },
      "execution_count": 101,
      "outputs": [
        {
          "output_type": "execute_result",
          "data": {
            "text/plain": [
              "array([[146.37687353, 141.5877723 ],\n",
              "       [141.5877723 , 136.74643615],\n",
              "       [136.74643615, 133.32732029],\n",
              "       [133.32732029, 134.09440723]])"
            ]
          },
          "metadata": {},
          "execution_count": 101
        }
      ]
    },
    {
      "cell_type": "code",
      "source": [
        "testX"
      ],
      "metadata": {
        "colab": {
          "base_uri": "https://localhost:8080/"
        },
        "id": "142St2suTtt1",
        "outputId": "05f2031c-fbef-407e-96b2-b22f259af45e"
      },
      "execution_count": 100,
      "outputs": [
        {
          "output_type": "execute_result",
          "data": {
            "text/plain": [
              "array([[146.37687353],\n",
              "       [141.5877723 ],\n",
              "       [136.74643615],\n",
              "       [133.32732029]])"
            ]
          },
          "metadata": {},
          "execution_count": 100
        }
      ]
    },
    {
      "cell_type": "markdown",
      "source": [
        "## **Model Tuning and Evaluation**"
      ],
      "metadata": {
        "id": "11twQ4byvjPf"
      }
    },
    {
      "cell_type": "code",
      "source": [],
      "metadata": {
        "id": "EmSEB_kLMjP7"
      },
      "execution_count": null,
      "outputs": []
    },
    {
      "cell_type": "code",
      "source": [],
      "metadata": {
        "id": "VX_li2wmMjS1"
      },
      "execution_count": null,
      "outputs": []
    },
    {
      "cell_type": "code",
      "source": [],
      "metadata": {
        "id": "fjLoEYxrMjVj"
      },
      "execution_count": null,
      "outputs": []
    },
    {
      "cell_type": "code",
      "source": [],
      "metadata": {
        "id": "JLlaCz_zMjYm"
      },
      "execution_count": null,
      "outputs": []
    },
    {
      "cell_type": "code",
      "source": [],
      "metadata": {
        "id": "72v6Rjt-Mjbz"
      },
      "execution_count": null,
      "outputs": []
    },
    {
      "cell_type": "code",
      "source": [],
      "metadata": {
        "id": "u961I83bMjfI"
      },
      "execution_count": null,
      "outputs": []
    },
    {
      "cell_type": "code",
      "source": [],
      "metadata": {
        "id": "1WR3SkZ_MjiP"
      },
      "execution_count": null,
      "outputs": []
    },
    {
      "cell_type": "code",
      "source": [],
      "metadata": {
        "id": "3T-BSQwzMjmd"
      },
      "execution_count": null,
      "outputs": []
    },
    {
      "cell_type": "code",
      "source": [],
      "metadata": {
        "id": "cxpl2-nUMjpz"
      },
      "execution_count": null,
      "outputs": []
    },
    {
      "cell_type": "code",
      "source": [],
      "metadata": {
        "id": "Y6FHZmmFMjta"
      },
      "execution_count": null,
      "outputs": []
    },
    {
      "cell_type": "code",
      "source": [],
      "metadata": {
        "id": "kREySd_vMjwN"
      },
      "execution_count": null,
      "outputs": []
    },
    {
      "cell_type": "code",
      "source": [],
      "metadata": {
        "id": "-U4V6SQkMj4l"
      },
      "execution_count": null,
      "outputs": []
    },
    {
      "cell_type": "code",
      "source": [],
      "metadata": {
        "id": "kHqIMGbZMkNP"
      },
      "execution_count": null,
      "outputs": []
    },
    {
      "cell_type": "code",
      "source": [],
      "metadata": {
        "id": "MogESQMoMkQB"
      },
      "execution_count": null,
      "outputs": []
    },
    {
      "cell_type": "code",
      "source": [],
      "metadata": {
        "id": "9N6QTA8UMkS7"
      },
      "execution_count": null,
      "outputs": []
    },
    {
      "cell_type": "code",
      "source": [],
      "metadata": {
        "id": "GrpCOKyKMkV9"
      },
      "execution_count": null,
      "outputs": []
    },
    {
      "cell_type": "code",
      "source": [],
      "metadata": {
        "id": "06HbhPURMkYr"
      },
      "execution_count": null,
      "outputs": []
    },
    {
      "cell_type": "code",
      "source": [],
      "metadata": {
        "id": "FsfzDt4LMkbb"
      },
      "execution_count": null,
      "outputs": []
    }
  ]
}