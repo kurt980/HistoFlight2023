{
  "nbformat": 4,
  "nbformat_minor": 0,
  "metadata": {
    "colab": {
      "provenance": []
    },
    "kernelspec": {
      "name": "python3",
      "display_name": "Python 3"
    },
    "language_info": {
      "name": "python"
    }
  },
  "cells": [
    {
      "cell_type": "code",
      "execution_count": 1,
      "metadata": {
        "id": "gbgR_6TUChWl"
      },
      "outputs": [],
      "source": [
        "import pandas as pd\n",
        "import numpy as np"
      ]
    },
    {
      "cell_type": "code",
      "source": [],
      "metadata": {
        "id": "0u-wbU6MWay1"
      },
      "execution_count": null,
      "outputs": []
    },
    {
      "cell_type": "markdown",
      "source": [
        "## **Read data**"
      ],
      "metadata": {
        "id": "kCu28wGZWkBf"
      }
    },
    {
      "cell_type": "code",
      "source": [
        "import os\n",
        "\n",
        "# Path to the main directory containing the folders\n",
        "main_directory = '/content/drive/MyDrive/old_data'\n",
        "\n",
        "# Get a list of all folders in the main directory\n",
        "folders = [folder for folder in os.listdir(main_directory) if os.path.isdir(os.path.join(main_directory, folder))]\n",
        "\n",
        "# Dictionary to store DataFrames\n",
        "tickets, flights = {}, {}\n",
        "\n",
        "# Iterate over each folder\n",
        "for folder in folders:\n",
        "    # Construct the path to the CSV file in the current folder\n",
        "    csv_path_ticket = os.path.join(main_directory, folder, 'ticket.csv')\n",
        "    csv_path_flight = os.path.join(main_directory, folder, 'flight.csv')\n",
        "\n",
        "    # Check if the CSV file exists\n",
        "    if os.path.exists(csv_path_ticket):\n",
        "        # Read the CSV file into a DataFrame\n",
        "        df = pd.read_csv(csv_path_ticket)\n",
        "\n",
        "        # Store the DataFrame in the dictionary with the folder name as the key\n",
        "        tickets[folder] = df\n",
        "\n",
        "        # Optionally, store the DataFrame in a dictionary with folder names as keys\n",
        "        # dataframes[folder] = df\n",
        "    else:\n",
        "        print(f'not found in {folder}')\n",
        "\n",
        "        # Check if the CSV file exists\n",
        "    if os.path.exists(csv_path_flight):\n",
        "        # Read the CSV file into a DataFrame\n",
        "        df = pd.read_csv(csv_path_flight)\n",
        "\n",
        "        # Store the DataFrame in the dictionary with the folder name as the key\n",
        "        flights[folder] = df\n",
        "\n",
        "        # Optionally, store the DataFrame in a dictionary with folder names as keys\n",
        "        # dataframes[folder] = df\n",
        "    else:\n",
        "        print(f'not found in {folder}')\n",
        "\n"
      ],
      "metadata": {
        "id": "WgsUxzeeWa1j"
      },
      "execution_count": 4,
      "outputs": []
    },
    {
      "cell_type": "code",
      "source": [],
      "metadata": {
        "id": "r8C0qozJu5_x"
      },
      "execution_count": null,
      "outputs": []
    },
    {
      "cell_type": "code",
      "source": [],
      "metadata": {
        "id": "0u5MoSDZu6Cb"
      },
      "execution_count": null,
      "outputs": []
    },
    {
      "cell_type": "markdown",
      "source": [
        "## **Data Processing**"
      ],
      "metadata": {
        "id": "qYZlHk1hu6YM"
      }
    },
    {
      "cell_type": "code",
      "source": [],
      "metadata": {
        "id": "Hpdcld1vWa38"
      },
      "execution_count": null,
      "outputs": []
    },
    {
      "cell_type": "markdown",
      "source": [
        "### **Join Tickets data and Flights data**"
      ],
      "metadata": {
        "id": "ZaoIJdVGu9XY"
      }
    },
    {
      "cell_type": "code",
      "source": [],
      "metadata": {
        "id": "Q0rEdiXfWa6Y"
      },
      "execution_count": null,
      "outputs": []
    },
    {
      "cell_type": "code",
      "source": [],
      "metadata": {
        "id": "Rk34eOe_Wa8x"
      },
      "execution_count": null,
      "outputs": []
    },
    {
      "cell_type": "markdown",
      "source": [
        "### **Merge all data to form time series data**"
      ],
      "metadata": {
        "id": "f-r8sWAUvDKR"
      }
    },
    {
      "cell_type": "code",
      "source": [],
      "metadata": {
        "id": "X50Hm9EqvDPr"
      },
      "execution_count": null,
      "outputs": []
    },
    {
      "cell_type": "code",
      "source": [],
      "metadata": {
        "id": "Oe_Etgz9vDR5"
      },
      "execution_count": null,
      "outputs": []
    },
    {
      "cell_type": "code",
      "source": [],
      "metadata": {
        "id": "aOuK_q6CvDUJ"
      },
      "execution_count": null,
      "outputs": []
    },
    {
      "cell_type": "code",
      "source": [],
      "metadata": {
        "id": "wHfvwrgBverT"
      },
      "execution_count": null,
      "outputs": []
    },
    {
      "cell_type": "code",
      "source": [],
      "metadata": {
        "id": "gwnyD1hmvett"
      },
      "execution_count": null,
      "outputs": []
    },
    {
      "cell_type": "markdown",
      "source": [
        "## **Model**"
      ],
      "metadata": {
        "id": "-3zhBCx6ve30"
      }
    },
    {
      "cell_type": "code",
      "source": [],
      "metadata": {
        "id": "0GfODwyNvfDH"
      },
      "execution_count": null,
      "outputs": []
    },
    {
      "cell_type": "code",
      "source": [],
      "metadata": {
        "id": "ks7nEeZdvfFy"
      },
      "execution_count": null,
      "outputs": []
    },
    {
      "cell_type": "code",
      "source": [],
      "metadata": {
        "id": "XUIScLvivfII"
      },
      "execution_count": null,
      "outputs": []
    },
    {
      "cell_type": "code",
      "source": [],
      "metadata": {
        "id": "UOzQJincvfKg"
      },
      "execution_count": null,
      "outputs": []
    },
    {
      "cell_type": "code",
      "source": [
        "# Import necessary libraries\n",
        "import matplotlib.pyplot as plt\n",
        "from statsmodels.tsa.arima.model import ARIMA\n",
        "from sklearn.model_selection import train_test_split\n",
        "from sklearn.metrics import mean_squared_error\n",
        "\n",
        "# Load your flight ticket price data (replace 'your_data.csv' with your actual file)\n",
        "data = pd.read_csv('your_data.csv')\n",
        "data['Date'] = pd.to_datetime(data['Date'])\n",
        "data.set_index('Date', inplace=True)\n",
        "\n",
        "# Visualize the time series\n",
        "plt.figure(figsize=(12, 6))\n",
        "plt.plot(data['Price'])\n",
        "plt.title('Flight Ticket Prices Over Time')\n",
        "plt.xlabel('Date')\n",
        "plt.ylabel('Price')\n",
        "plt.show()\n",
        "\n",
        "# Train-test split\n",
        "train_size = int(len(data) * 0.8)\n",
        "train, test = data[:train_size], data[train_size:]\n",
        "\n",
        "# Build and train the ARIMA model\n",
        "order = (1, 1, 1)  # Order parameters (p, d, q)\n",
        "model = ARIMA(train['Price'], order=order)\n",
        "model_fit = model.fit()\n",
        "\n",
        "# Forecasting\n",
        "predictions = model_fit.predict(start=len(train), end=len(train) + len(test) - 1, typ='levels')\n",
        "\n",
        "# Evaluate the model\n",
        "mse = mean_squared_error(test['Price'], predictions)\n",
        "print(f'Mean Squared Error: {mse}')\n",
        "\n",
        "# Visualize the results\n",
        "plt.figure(figsize=(12, 6))\n",
        "plt.plot(train.index, train['Price'], label='Train')\n",
        "plt.plot(test.index, test['Price'], label='Test')\n",
        "plt.plot(test.index, predictions, label='Predictions', color='red')\n",
        "plt.title('ARIMA Model for Flight Ticket Prices')\n",
        "plt.xlabel('Date')\n",
        "plt.ylabel('Price')\n",
        "plt.legend()\n",
        "plt.show()\n"
      ],
      "metadata": {
        "id": "S3fAP6eGMjE0"
      },
      "execution_count": null,
      "outputs": []
    },
    {
      "cell_type": "code",
      "source": [],
      "metadata": {
        "id": "WZvMdneSMjHo"
      },
      "execution_count": null,
      "outputs": []
    },
    {
      "cell_type": "code",
      "source": [],
      "metadata": {
        "id": "Gh1fpbdkMjKi"
      },
      "execution_count": null,
      "outputs": []
    },
    {
      "cell_type": "code",
      "source": [],
      "metadata": {
        "id": "TM1WsH5GMjNV"
      },
      "execution_count": null,
      "outputs": []
    },
    {
      "cell_type": "markdown",
      "source": [
        "## **Model Tuning and Evaluation**"
      ],
      "metadata": {
        "id": "11twQ4byvjPf"
      }
    },
    {
      "cell_type": "code",
      "source": [],
      "metadata": {
        "id": "EmSEB_kLMjP7"
      },
      "execution_count": null,
      "outputs": []
    },
    {
      "cell_type": "code",
      "source": [],
      "metadata": {
        "id": "VX_li2wmMjS1"
      },
      "execution_count": null,
      "outputs": []
    },
    {
      "cell_type": "code",
      "source": [],
      "metadata": {
        "id": "fjLoEYxrMjVj"
      },
      "execution_count": null,
      "outputs": []
    },
    {
      "cell_type": "code",
      "source": [],
      "metadata": {
        "id": "JLlaCz_zMjYm"
      },
      "execution_count": null,
      "outputs": []
    },
    {
      "cell_type": "code",
      "source": [],
      "metadata": {
        "id": "72v6Rjt-Mjbz"
      },
      "execution_count": null,
      "outputs": []
    },
    {
      "cell_type": "code",
      "source": [],
      "metadata": {
        "id": "u961I83bMjfI"
      },
      "execution_count": null,
      "outputs": []
    },
    {
      "cell_type": "code",
      "source": [],
      "metadata": {
        "id": "1WR3SkZ_MjiP"
      },
      "execution_count": null,
      "outputs": []
    },
    {
      "cell_type": "code",
      "source": [],
      "metadata": {
        "id": "3T-BSQwzMjmd"
      },
      "execution_count": null,
      "outputs": []
    },
    {
      "cell_type": "code",
      "source": [],
      "metadata": {
        "id": "cxpl2-nUMjpz"
      },
      "execution_count": null,
      "outputs": []
    },
    {
      "cell_type": "code",
      "source": [],
      "metadata": {
        "id": "Y6FHZmmFMjta"
      },
      "execution_count": null,
      "outputs": []
    },
    {
      "cell_type": "code",
      "source": [],
      "metadata": {
        "id": "kREySd_vMjwN"
      },
      "execution_count": null,
      "outputs": []
    },
    {
      "cell_type": "code",
      "source": [],
      "metadata": {
        "id": "-U4V6SQkMj4l"
      },
      "execution_count": null,
      "outputs": []
    },
    {
      "cell_type": "code",
      "source": [],
      "metadata": {
        "id": "kHqIMGbZMkNP"
      },
      "execution_count": null,
      "outputs": []
    },
    {
      "cell_type": "code",
      "source": [],
      "metadata": {
        "id": "MogESQMoMkQB"
      },
      "execution_count": null,
      "outputs": []
    },
    {
      "cell_type": "code",
      "source": [],
      "metadata": {
        "id": "9N6QTA8UMkS7"
      },
      "execution_count": null,
      "outputs": []
    },
    {
      "cell_type": "code",
      "source": [],
      "metadata": {
        "id": "GrpCOKyKMkV9"
      },
      "execution_count": null,
      "outputs": []
    },
    {
      "cell_type": "code",
      "source": [],
      "metadata": {
        "id": "06HbhPURMkYr"
      },
      "execution_count": null,
      "outputs": []
    },
    {
      "cell_type": "code",
      "source": [],
      "metadata": {
        "id": "FsfzDt4LMkbb"
      },
      "execution_count": null,
      "outputs": []
    }
  ]
}